{
 "cells": [
  {
   "cell_type": "code",
   "execution_count": 1,
   "id": "9870492a",
   "metadata": {
    "execution": {
     "iopub.execute_input": "2024-05-05T14:45:17.867802Z",
     "iopub.status.busy": "2024-05-05T14:45:17.867080Z",
     "iopub.status.idle": "2024-05-05T14:45:20.803526Z",
     "shell.execute_reply": "2024-05-05T14:45:20.802605Z"
    },
    "papermill": {
     "duration": 2.967528,
     "end_time": "2024-05-05T14:45:20.805977",
     "exception": false,
     "start_time": "2024-05-05T14:45:17.838449",
     "status": "completed"
    },
    "tags": []
   },
   "outputs": [],
   "source": [
    "# Import Libraries\n",
    "import pandas as pd\n",
    "import numpy as np\n",
    "import matplotlib.pyplot as plt\n",
    "import seaborn as sns\n",
    "import plotly.express as px\n",
    "%matplotlib inline "
   ]
  },
  {
   "cell_type": "code",
   "execution_count": 45,
   "id": "74f854a6",
   "metadata": {
    "execution": {
     "iopub.execute_input": "2024-05-05T14:45:21.027908Z",
     "iopub.status.busy": "2024-05-05T14:45:21.027363Z",
     "iopub.status.idle": "2024-05-05T14:45:52.578087Z",
     "shell.execute_reply": "2024-05-05T14:45:52.576721Z"
    },
    "papermill": {
     "duration": 31.58227,
     "end_time": "2024-05-05T14:45:52.580613",
     "exception": false,
     "start_time": "2024-05-05T14:45:20.998343",
     "status": "completed"
    },
    "tags": []
   },
   "outputs": [
    {
     "data": {
      "text/html": [
       "<div>\n",
       "<style scoped>\n",
       "    .dataframe tbody tr th:only-of-type {\n",
       "        vertical-align: middle;\n",
       "    }\n",
       "\n",
       "    .dataframe tbody tr th {\n",
       "        vertical-align: top;\n",
       "    }\n",
       "\n",
       "    .dataframe thead th {\n",
       "        text-align: right;\n",
       "    }\n",
       "</style>\n",
       "<table border=\"1\" class=\"dataframe\">\n",
       "  <thead>\n",
       "    <tr style=\"text-align: right;\">\n",
       "      <th></th>\n",
       "      <th>App Name</th>\n",
       "      <th>App Id</th>\n",
       "      <th>Category</th>\n",
       "      <th>Rating</th>\n",
       "      <th>Rating Count</th>\n",
       "      <th>Installs</th>\n",
       "      <th>Minimum Installs</th>\n",
       "      <th>Maximum Installs</th>\n",
       "      <th>Free</th>\n",
       "      <th>Price</th>\n",
       "      <th>...</th>\n",
       "      <th>Developer Website</th>\n",
       "      <th>Developer Email</th>\n",
       "      <th>Released</th>\n",
       "      <th>Last Updated</th>\n",
       "      <th>Content Rating</th>\n",
       "      <th>Privacy Policy</th>\n",
       "      <th>Ad Supported</th>\n",
       "      <th>In App Purchases</th>\n",
       "      <th>Editors Choice</th>\n",
       "      <th>Scraped Time</th>\n",
       "    </tr>\n",
       "  </thead>\n",
       "  <tbody>\n",
       "    <tr>\n",
       "      <th>0</th>\n",
       "      <td>Gakondo</td>\n",
       "      <td>com.ishakwe.gakondo</td>\n",
       "      <td>Adventure</td>\n",
       "      <td>0.0</td>\n",
       "      <td>0.0</td>\n",
       "      <td>10+</td>\n",
       "      <td>10.0</td>\n",
       "      <td>15</td>\n",
       "      <td>True</td>\n",
       "      <td>0.0</td>\n",
       "      <td>...</td>\n",
       "      <td>https://beniyizibyose.tk/#/</td>\n",
       "      <td>jean21101999@gmail.com</td>\n",
       "      <td>Feb 26, 2020</td>\n",
       "      <td>Feb 26, 2020</td>\n",
       "      <td>Everyone</td>\n",
       "      <td>https://beniyizibyose.tk/projects/</td>\n",
       "      <td>False</td>\n",
       "      <td>False</td>\n",
       "      <td>False</td>\n",
       "      <td>2021-06-15 20:19:35</td>\n",
       "    </tr>\n",
       "    <tr>\n",
       "      <th>1</th>\n",
       "      <td>Ampere Battery Info</td>\n",
       "      <td>com.webserveis.batteryinfo</td>\n",
       "      <td>Tools</td>\n",
       "      <td>4.4</td>\n",
       "      <td>64.0</td>\n",
       "      <td>5,000+</td>\n",
       "      <td>5000.0</td>\n",
       "      <td>7662</td>\n",
       "      <td>True</td>\n",
       "      <td>0.0</td>\n",
       "      <td>...</td>\n",
       "      <td>https://webserveis.netlify.app/</td>\n",
       "      <td>webserveis@gmail.com</td>\n",
       "      <td>May 21, 2020</td>\n",
       "      <td>May 06, 2021</td>\n",
       "      <td>Everyone</td>\n",
       "      <td>https://dev4phones.wordpress.com/licencia-de-uso/</td>\n",
       "      <td>True</td>\n",
       "      <td>False</td>\n",
       "      <td>False</td>\n",
       "      <td>2021-06-15 20:19:35</td>\n",
       "    </tr>\n",
       "    <tr>\n",
       "      <th>2</th>\n",
       "      <td>Vibook</td>\n",
       "      <td>com.doantiepvien.crm</td>\n",
       "      <td>Productivity</td>\n",
       "      <td>0.0</td>\n",
       "      <td>0.0</td>\n",
       "      <td>50+</td>\n",
       "      <td>50.0</td>\n",
       "      <td>58</td>\n",
       "      <td>True</td>\n",
       "      <td>0.0</td>\n",
       "      <td>...</td>\n",
       "      <td>NaN</td>\n",
       "      <td>vnacrewit@gmail.com</td>\n",
       "      <td>Aug 9, 2019</td>\n",
       "      <td>Aug 19, 2019</td>\n",
       "      <td>Everyone</td>\n",
       "      <td>https://www.vietnamairlines.com/vn/en/terms-an...</td>\n",
       "      <td>False</td>\n",
       "      <td>False</td>\n",
       "      <td>False</td>\n",
       "      <td>2021-06-15 20:19:35</td>\n",
       "    </tr>\n",
       "    <tr>\n",
       "      <th>3</th>\n",
       "      <td>Smart City Trichy Public Service Vehicles 17UC...</td>\n",
       "      <td>cst.stJoseph.ug17ucs548</td>\n",
       "      <td>Communication</td>\n",
       "      <td>5.0</td>\n",
       "      <td>5.0</td>\n",
       "      <td>10+</td>\n",
       "      <td>10.0</td>\n",
       "      <td>19</td>\n",
       "      <td>True</td>\n",
       "      <td>0.0</td>\n",
       "      <td>...</td>\n",
       "      <td>http://www.climatesmarttech.com/</td>\n",
       "      <td>climatesmarttech2@gmail.com</td>\n",
       "      <td>Sep 10, 2018</td>\n",
       "      <td>Oct 13, 2018</td>\n",
       "      <td>Everyone</td>\n",
       "      <td>NaN</td>\n",
       "      <td>True</td>\n",
       "      <td>False</td>\n",
       "      <td>False</td>\n",
       "      <td>2021-06-15 20:19:35</td>\n",
       "    </tr>\n",
       "    <tr>\n",
       "      <th>4</th>\n",
       "      <td>GROW.me</td>\n",
       "      <td>com.horodyski.grower</td>\n",
       "      <td>Tools</td>\n",
       "      <td>0.0</td>\n",
       "      <td>0.0</td>\n",
       "      <td>100+</td>\n",
       "      <td>100.0</td>\n",
       "      <td>478</td>\n",
       "      <td>True</td>\n",
       "      <td>0.0</td>\n",
       "      <td>...</td>\n",
       "      <td>http://www.horodyski.com.pl</td>\n",
       "      <td>rmilekhorodyski@gmail.com</td>\n",
       "      <td>Feb 21, 2020</td>\n",
       "      <td>Nov 12, 2018</td>\n",
       "      <td>Everyone</td>\n",
       "      <td>http://www.horodyski.com.pl</td>\n",
       "      <td>False</td>\n",
       "      <td>False</td>\n",
       "      <td>False</td>\n",
       "      <td>2021-06-15 20:19:35</td>\n",
       "    </tr>\n",
       "    <tr>\n",
       "      <th>...</th>\n",
       "      <td>...</td>\n",
       "      <td>...</td>\n",
       "      <td>...</td>\n",
       "      <td>...</td>\n",
       "      <td>...</td>\n",
       "      <td>...</td>\n",
       "      <td>...</td>\n",
       "      <td>...</td>\n",
       "      <td>...</td>\n",
       "      <td>...</td>\n",
       "      <td>...</td>\n",
       "      <td>...</td>\n",
       "      <td>...</td>\n",
       "      <td>...</td>\n",
       "      <td>...</td>\n",
       "      <td>...</td>\n",
       "      <td>...</td>\n",
       "      <td>...</td>\n",
       "      <td>...</td>\n",
       "      <td>...</td>\n",
       "      <td>...</td>\n",
       "    </tr>\n",
       "    <tr>\n",
       "      <th>2312939</th>\n",
       "      <td>大俠客—熱血歸來</td>\n",
       "      <td>com.rxsj.ssjj</td>\n",
       "      <td>Role Playing</td>\n",
       "      <td>4.3</td>\n",
       "      <td>16775.0</td>\n",
       "      <td>100,000+</td>\n",
       "      <td>100000.0</td>\n",
       "      <td>337109</td>\n",
       "      <td>True</td>\n",
       "      <td>0.0</td>\n",
       "      <td>...</td>\n",
       "      <td>http://www.4399sy.com.hk/</td>\n",
       "      <td>ssjjcomhk@gmail.com</td>\n",
       "      <td>NaN</td>\n",
       "      <td>Jun 01, 2021</td>\n",
       "      <td>Teen</td>\n",
       "      <td>http://a.4399sy.com.hk/user/aggreement</td>\n",
       "      <td>False</td>\n",
       "      <td>False</td>\n",
       "      <td>False</td>\n",
       "      <td>2021-06-16 12:59:18</td>\n",
       "    </tr>\n",
       "    <tr>\n",
       "      <th>2312940</th>\n",
       "      <td>ORU Online</td>\n",
       "      <td>com.threedream.oruonline</td>\n",
       "      <td>Education</td>\n",
       "      <td>0.0</td>\n",
       "      <td>0.0</td>\n",
       "      <td>100+</td>\n",
       "      <td>100.0</td>\n",
       "      <td>430</td>\n",
       "      <td>True</td>\n",
       "      <td>0.0</td>\n",
       "      <td>...</td>\n",
       "      <td>http://www.oru.edu/</td>\n",
       "      <td>3DreamDeveloper@gmail.com</td>\n",
       "      <td>Jan 17, 2018</td>\n",
       "      <td>Feb 02, 2018</td>\n",
       "      <td>Everyone</td>\n",
       "      <td>http://www.oru.edu/about-oru/privacy-policy.php</td>\n",
       "      <td>False</td>\n",
       "      <td>False</td>\n",
       "      <td>False</td>\n",
       "      <td>2021-06-16 12:59:19</td>\n",
       "    </tr>\n",
       "    <tr>\n",
       "      <th>2312941</th>\n",
       "      <td>Data Structure</td>\n",
       "      <td>datastructure.appoworld.datastucture</td>\n",
       "      <td>Education</td>\n",
       "      <td>0.0</td>\n",
       "      <td>0.0</td>\n",
       "      <td>100+</td>\n",
       "      <td>100.0</td>\n",
       "      <td>202</td>\n",
       "      <td>True</td>\n",
       "      <td>0.0</td>\n",
       "      <td>...</td>\n",
       "      <td>NaN</td>\n",
       "      <td>appoworld.official@gmail.com</td>\n",
       "      <td>Aug 19, 2018</td>\n",
       "      <td>Aug 19, 2018</td>\n",
       "      <td>Everyone</td>\n",
       "      <td>https://appoworld.000webhostapp.com/datastruct...</td>\n",
       "      <td>False</td>\n",
       "      <td>False</td>\n",
       "      <td>False</td>\n",
       "      <td>2021-06-16 12:59:19</td>\n",
       "    </tr>\n",
       "    <tr>\n",
       "      <th>2312942</th>\n",
       "      <td>Devi Suktam</td>\n",
       "      <td>ishan.devi.suktam</td>\n",
       "      <td>Music &amp; Audio</td>\n",
       "      <td>3.5</td>\n",
       "      <td>8.0</td>\n",
       "      <td>1,000+</td>\n",
       "      <td>1000.0</td>\n",
       "      <td>2635</td>\n",
       "      <td>True</td>\n",
       "      <td>0.0</td>\n",
       "      <td>...</td>\n",
       "      <td>https://a70f78905.app-ads-txt.com</td>\n",
       "      <td>ruchisono@gmail.com</td>\n",
       "      <td>Aug 1, 2016</td>\n",
       "      <td>May 05, 2021</td>\n",
       "      <td>Everyone</td>\n",
       "      <td>https://docs.google.com/document/d/1x-9reZuLRX...</td>\n",
       "      <td>True</td>\n",
       "      <td>False</td>\n",
       "      <td>False</td>\n",
       "      <td>2021-06-16 12:59:19</td>\n",
       "    </tr>\n",
       "    <tr>\n",
       "      <th>2312943</th>\n",
       "      <td>Biliyor Musun - Sonsuz Yarış</td>\n",
       "      <td>com.yyazilim.biliyormusun</td>\n",
       "      <td>Trivia</td>\n",
       "      <td>5.0</td>\n",
       "      <td>12.0</td>\n",
       "      <td>100+</td>\n",
       "      <td>100.0</td>\n",
       "      <td>354</td>\n",
       "      <td>True</td>\n",
       "      <td>0.0</td>\n",
       "      <td>...</td>\n",
       "      <td>NaN</td>\n",
       "      <td>yyazilimdevelop@gmail.com</td>\n",
       "      <td>Aug 9, 2019</td>\n",
       "      <td>Aug 19, 2019</td>\n",
       "      <td>Everyone</td>\n",
       "      <td>https://biliyor-musun-sons.flycricket.io/priva...</td>\n",
       "      <td>True</td>\n",
       "      <td>False</td>\n",
       "      <td>False</td>\n",
       "      <td>2021-06-16 12:59:19</td>\n",
       "    </tr>\n",
       "  </tbody>\n",
       "</table>\n",
       "<p>2312944 rows × 24 columns</p>\n",
       "</div>"
      ],
      "text/plain": [
       "                                                  App Name  \\\n",
       "0                                                  Gakondo   \n",
       "1                                      Ampere Battery Info   \n",
       "2                                                   Vibook   \n",
       "3        Smart City Trichy Public Service Vehicles 17UC...   \n",
       "4                                                  GROW.me   \n",
       "...                                                    ...   \n",
       "2312939                                           大俠客—熱血歸來   \n",
       "2312940                                         ORU Online   \n",
       "2312941                                     Data Structure   \n",
       "2312942                                        Devi Suktam   \n",
       "2312943                       Biliyor Musun - Sonsuz Yarış   \n",
       "\n",
       "                                       App Id       Category  Rating  \\\n",
       "0                         com.ishakwe.gakondo      Adventure     0.0   \n",
       "1                  com.webserveis.batteryinfo          Tools     4.4   \n",
       "2                        com.doantiepvien.crm   Productivity     0.0   \n",
       "3                     cst.stJoseph.ug17ucs548  Communication     5.0   \n",
       "4                        com.horodyski.grower          Tools     0.0   \n",
       "...                                       ...            ...     ...   \n",
       "2312939                         com.rxsj.ssjj   Role Playing     4.3   \n",
       "2312940              com.threedream.oruonline      Education     0.0   \n",
       "2312941  datastructure.appoworld.datastucture      Education     0.0   \n",
       "2312942                     ishan.devi.suktam  Music & Audio     3.5   \n",
       "2312943             com.yyazilim.biliyormusun         Trivia     5.0   \n",
       "\n",
       "         Rating Count  Installs  Minimum Installs  Maximum Installs  Free  \\\n",
       "0                 0.0       10+              10.0                15  True   \n",
       "1                64.0    5,000+            5000.0              7662  True   \n",
       "2                 0.0       50+              50.0                58  True   \n",
       "3                 5.0       10+              10.0                19  True   \n",
       "4                 0.0      100+             100.0               478  True   \n",
       "...               ...       ...               ...               ...   ...   \n",
       "2312939       16775.0  100,000+          100000.0            337109  True   \n",
       "2312940           0.0      100+             100.0               430  True   \n",
       "2312941           0.0      100+             100.0               202  True   \n",
       "2312942           8.0    1,000+            1000.0              2635  True   \n",
       "2312943          12.0      100+             100.0               354  True   \n",
       "\n",
       "         Price  ...                  Developer Website  \\\n",
       "0          0.0  ...        https://beniyizibyose.tk/#/   \n",
       "1          0.0  ...    https://webserveis.netlify.app/   \n",
       "2          0.0  ...                                NaN   \n",
       "3          0.0  ...   http://www.climatesmarttech.com/   \n",
       "4          0.0  ...        http://www.horodyski.com.pl   \n",
       "...        ...  ...                                ...   \n",
       "2312939    0.0  ...          http://www.4399sy.com.hk/   \n",
       "2312940    0.0  ...                http://www.oru.edu/   \n",
       "2312941    0.0  ...                                NaN   \n",
       "2312942    0.0  ...  https://a70f78905.app-ads-txt.com   \n",
       "2312943    0.0  ...                                NaN   \n",
       "\n",
       "                      Developer Email      Released  Last Updated  \\\n",
       "0              jean21101999@gmail.com  Feb 26, 2020  Feb 26, 2020   \n",
       "1                webserveis@gmail.com  May 21, 2020  May 06, 2021   \n",
       "2                 vnacrewit@gmail.com   Aug 9, 2019  Aug 19, 2019   \n",
       "3         climatesmarttech2@gmail.com  Sep 10, 2018  Oct 13, 2018   \n",
       "4           rmilekhorodyski@gmail.com  Feb 21, 2020  Nov 12, 2018   \n",
       "...                               ...           ...           ...   \n",
       "2312939           ssjjcomhk@gmail.com           NaN  Jun 01, 2021   \n",
       "2312940     3DreamDeveloper@gmail.com  Jan 17, 2018  Feb 02, 2018   \n",
       "2312941  appoworld.official@gmail.com  Aug 19, 2018  Aug 19, 2018   \n",
       "2312942           ruchisono@gmail.com   Aug 1, 2016  May 05, 2021   \n",
       "2312943     yyazilimdevelop@gmail.com   Aug 9, 2019  Aug 19, 2019   \n",
       "\n",
       "        Content Rating                                     Privacy Policy  \\\n",
       "0             Everyone                 https://beniyizibyose.tk/projects/   \n",
       "1             Everyone  https://dev4phones.wordpress.com/licencia-de-uso/   \n",
       "2             Everyone  https://www.vietnamairlines.com/vn/en/terms-an...   \n",
       "3             Everyone                                                NaN   \n",
       "4             Everyone                        http://www.horodyski.com.pl   \n",
       "...                ...                                                ...   \n",
       "2312939           Teen             http://a.4399sy.com.hk/user/aggreement   \n",
       "2312940       Everyone    http://www.oru.edu/about-oru/privacy-policy.php   \n",
       "2312941       Everyone  https://appoworld.000webhostapp.com/datastruct...   \n",
       "2312942       Everyone  https://docs.google.com/document/d/1x-9reZuLRX...   \n",
       "2312943       Everyone  https://biliyor-musun-sons.flycricket.io/priva...   \n",
       "\n",
       "        Ad Supported In App Purchases Editors Choice         Scraped Time  \n",
       "0              False            False          False  2021-06-15 20:19:35  \n",
       "1               True            False          False  2021-06-15 20:19:35  \n",
       "2              False            False          False  2021-06-15 20:19:35  \n",
       "3               True            False          False  2021-06-15 20:19:35  \n",
       "4              False            False          False  2021-06-15 20:19:35  \n",
       "...              ...              ...            ...                  ...  \n",
       "2312939        False            False          False  2021-06-16 12:59:18  \n",
       "2312940        False            False          False  2021-06-16 12:59:19  \n",
       "2312941        False            False          False  2021-06-16 12:59:19  \n",
       "2312942         True            False          False  2021-06-16 12:59:19  \n",
       "2312943         True            False          False  2021-06-16 12:59:19  \n",
       "\n",
       "[2312944 rows x 24 columns]"
      ]
     },
     "execution_count": 45,
     "metadata": {},
     "output_type": "execute_result"
    }
   ],
   "source": [
    "# Load Dataset\n",
    "df = pd.read_csv('Google-Playstore.csv')\n",
    "df"
   ]
  },
  {
   "cell_type": "markdown",
   "id": "db2df41e",
   "metadata": {
    "papermill": {
     "duration": 0.029361,
     "end_time": "2024-05-05T14:45:52.800949",
     "exception": false,
     "start_time": "2024-05-05T14:45:52.771588",
     "status": "completed"
    },
    "tags": []
   },
   "source": [
    "* Displays the first 5 rows of DataFrame."
   ]
  },
  {
   "cell_type": "code",
   "execution_count": 3,
   "id": "738bc7d7",
   "metadata": {
    "execution": {
     "iopub.execute_input": "2024-05-05T14:45:52.857975Z",
     "iopub.status.busy": "2024-05-05T14:45:52.857300Z",
     "iopub.status.idle": "2024-05-05T14:45:52.896951Z",
     "shell.execute_reply": "2024-05-05T14:45:52.896215Z"
    },
    "papermill": {
     "duration": 0.070596,
     "end_time": "2024-05-05T14:45:52.899041",
     "exception": false,
     "start_time": "2024-05-05T14:45:52.828445",
     "status": "completed"
    },
    "tags": []
   },
   "outputs": [
    {
     "data": {
      "text/html": [
       "<div>\n",
       "<style scoped>\n",
       "    .dataframe tbody tr th:only-of-type {\n",
       "        vertical-align: middle;\n",
       "    }\n",
       "\n",
       "    .dataframe tbody tr th {\n",
       "        vertical-align: top;\n",
       "    }\n",
       "\n",
       "    .dataframe thead th {\n",
       "        text-align: right;\n",
       "    }\n",
       "</style>\n",
       "<table border=\"1\" class=\"dataframe\">\n",
       "  <thead>\n",
       "    <tr style=\"text-align: right;\">\n",
       "      <th></th>\n",
       "      <th>App Name</th>\n",
       "      <th>App Id</th>\n",
       "      <th>Category</th>\n",
       "      <th>Rating</th>\n",
       "      <th>Rating Count</th>\n",
       "      <th>Installs</th>\n",
       "      <th>Minimum Installs</th>\n",
       "      <th>Maximum Installs</th>\n",
       "      <th>Free</th>\n",
       "      <th>Price</th>\n",
       "      <th>...</th>\n",
       "      <th>Developer Website</th>\n",
       "      <th>Developer Email</th>\n",
       "      <th>Released</th>\n",
       "      <th>Last Updated</th>\n",
       "      <th>Content Rating</th>\n",
       "      <th>Privacy Policy</th>\n",
       "      <th>Ad Supported</th>\n",
       "      <th>In App Purchases</th>\n",
       "      <th>Editors Choice</th>\n",
       "      <th>Scraped Time</th>\n",
       "    </tr>\n",
       "  </thead>\n",
       "  <tbody>\n",
       "    <tr>\n",
       "      <th>0</th>\n",
       "      <td>Gakondo</td>\n",
       "      <td>com.ishakwe.gakondo</td>\n",
       "      <td>Adventure</td>\n",
       "      <td>0.0</td>\n",
       "      <td>0.0</td>\n",
       "      <td>10+</td>\n",
       "      <td>10.0</td>\n",
       "      <td>15</td>\n",
       "      <td>True</td>\n",
       "      <td>0.0</td>\n",
       "      <td>...</td>\n",
       "      <td>https://beniyizibyose.tk/#/</td>\n",
       "      <td>jean21101999@gmail.com</td>\n",
       "      <td>Feb 26, 2020</td>\n",
       "      <td>Feb 26, 2020</td>\n",
       "      <td>Everyone</td>\n",
       "      <td>https://beniyizibyose.tk/projects/</td>\n",
       "      <td>False</td>\n",
       "      <td>False</td>\n",
       "      <td>False</td>\n",
       "      <td>2021-06-15 20:19:35</td>\n",
       "    </tr>\n",
       "    <tr>\n",
       "      <th>1</th>\n",
       "      <td>Ampere Battery Info</td>\n",
       "      <td>com.webserveis.batteryinfo</td>\n",
       "      <td>Tools</td>\n",
       "      <td>4.4</td>\n",
       "      <td>64.0</td>\n",
       "      <td>5,000+</td>\n",
       "      <td>5000.0</td>\n",
       "      <td>7662</td>\n",
       "      <td>True</td>\n",
       "      <td>0.0</td>\n",
       "      <td>...</td>\n",
       "      <td>https://webserveis.netlify.app/</td>\n",
       "      <td>webserveis@gmail.com</td>\n",
       "      <td>May 21, 2020</td>\n",
       "      <td>May 06, 2021</td>\n",
       "      <td>Everyone</td>\n",
       "      <td>https://dev4phones.wordpress.com/licencia-de-uso/</td>\n",
       "      <td>True</td>\n",
       "      <td>False</td>\n",
       "      <td>False</td>\n",
       "      <td>2021-06-15 20:19:35</td>\n",
       "    </tr>\n",
       "    <tr>\n",
       "      <th>2</th>\n",
       "      <td>Vibook</td>\n",
       "      <td>com.doantiepvien.crm</td>\n",
       "      <td>Productivity</td>\n",
       "      <td>0.0</td>\n",
       "      <td>0.0</td>\n",
       "      <td>50+</td>\n",
       "      <td>50.0</td>\n",
       "      <td>58</td>\n",
       "      <td>True</td>\n",
       "      <td>0.0</td>\n",
       "      <td>...</td>\n",
       "      <td>NaN</td>\n",
       "      <td>vnacrewit@gmail.com</td>\n",
       "      <td>Aug 9, 2019</td>\n",
       "      <td>Aug 19, 2019</td>\n",
       "      <td>Everyone</td>\n",
       "      <td>https://www.vietnamairlines.com/vn/en/terms-an...</td>\n",
       "      <td>False</td>\n",
       "      <td>False</td>\n",
       "      <td>False</td>\n",
       "      <td>2021-06-15 20:19:35</td>\n",
       "    </tr>\n",
       "    <tr>\n",
       "      <th>3</th>\n",
       "      <td>Smart City Trichy Public Service Vehicles 17UC...</td>\n",
       "      <td>cst.stJoseph.ug17ucs548</td>\n",
       "      <td>Communication</td>\n",
       "      <td>5.0</td>\n",
       "      <td>5.0</td>\n",
       "      <td>10+</td>\n",
       "      <td>10.0</td>\n",
       "      <td>19</td>\n",
       "      <td>True</td>\n",
       "      <td>0.0</td>\n",
       "      <td>...</td>\n",
       "      <td>http://www.climatesmarttech.com/</td>\n",
       "      <td>climatesmarttech2@gmail.com</td>\n",
       "      <td>Sep 10, 2018</td>\n",
       "      <td>Oct 13, 2018</td>\n",
       "      <td>Everyone</td>\n",
       "      <td>NaN</td>\n",
       "      <td>True</td>\n",
       "      <td>False</td>\n",
       "      <td>False</td>\n",
       "      <td>2021-06-15 20:19:35</td>\n",
       "    </tr>\n",
       "    <tr>\n",
       "      <th>4</th>\n",
       "      <td>GROW.me</td>\n",
       "      <td>com.horodyski.grower</td>\n",
       "      <td>Tools</td>\n",
       "      <td>0.0</td>\n",
       "      <td>0.0</td>\n",
       "      <td>100+</td>\n",
       "      <td>100.0</td>\n",
       "      <td>478</td>\n",
       "      <td>True</td>\n",
       "      <td>0.0</td>\n",
       "      <td>...</td>\n",
       "      <td>http://www.horodyski.com.pl</td>\n",
       "      <td>rmilekhorodyski@gmail.com</td>\n",
       "      <td>Feb 21, 2020</td>\n",
       "      <td>Nov 12, 2018</td>\n",
       "      <td>Everyone</td>\n",
       "      <td>http://www.horodyski.com.pl</td>\n",
       "      <td>False</td>\n",
       "      <td>False</td>\n",
       "      <td>False</td>\n",
       "      <td>2021-06-15 20:19:35</td>\n",
       "    </tr>\n",
       "  </tbody>\n",
       "</table>\n",
       "<p>5 rows × 24 columns</p>\n",
       "</div>"
      ],
      "text/plain": [
       "                                            App Name  \\\n",
       "0                                            Gakondo   \n",
       "1                                Ampere Battery Info   \n",
       "2                                             Vibook   \n",
       "3  Smart City Trichy Public Service Vehicles 17UC...   \n",
       "4                                            GROW.me   \n",
       "\n",
       "                       App Id       Category  Rating  Rating Count Installs  \\\n",
       "0         com.ishakwe.gakondo      Adventure     0.0           0.0      10+   \n",
       "1  com.webserveis.batteryinfo          Tools     4.4          64.0   5,000+   \n",
       "2        com.doantiepvien.crm   Productivity     0.0           0.0      50+   \n",
       "3     cst.stJoseph.ug17ucs548  Communication     5.0           5.0      10+   \n",
       "4        com.horodyski.grower          Tools     0.0           0.0     100+   \n",
       "\n",
       "   Minimum Installs  Maximum Installs  Free  Price  ...  \\\n",
       "0              10.0                15  True    0.0  ...   \n",
       "1            5000.0              7662  True    0.0  ...   \n",
       "2              50.0                58  True    0.0  ...   \n",
       "3              10.0                19  True    0.0  ...   \n",
       "4             100.0               478  True    0.0  ...   \n",
       "\n",
       "                  Developer Website              Developer Email  \\\n",
       "0       https://beniyizibyose.tk/#/       jean21101999@gmail.com   \n",
       "1   https://webserveis.netlify.app/         webserveis@gmail.com   \n",
       "2                               NaN          vnacrewit@gmail.com   \n",
       "3  http://www.climatesmarttech.com/  climatesmarttech2@gmail.com   \n",
       "4       http://www.horodyski.com.pl    rmilekhorodyski@gmail.com   \n",
       "\n",
       "       Released  Last Updated Content Rating  \\\n",
       "0  Feb 26, 2020  Feb 26, 2020       Everyone   \n",
       "1  May 21, 2020  May 06, 2021       Everyone   \n",
       "2   Aug 9, 2019  Aug 19, 2019       Everyone   \n",
       "3  Sep 10, 2018  Oct 13, 2018       Everyone   \n",
       "4  Feb 21, 2020  Nov 12, 2018       Everyone   \n",
       "\n",
       "                                      Privacy Policy Ad Supported  \\\n",
       "0                 https://beniyizibyose.tk/projects/        False   \n",
       "1  https://dev4phones.wordpress.com/licencia-de-uso/         True   \n",
       "2  https://www.vietnamairlines.com/vn/en/terms-an...        False   \n",
       "3                                                NaN         True   \n",
       "4                        http://www.horodyski.com.pl        False   \n",
       "\n",
       "  In App Purchases Editors Choice         Scraped Time  \n",
       "0            False          False  2021-06-15 20:19:35  \n",
       "1            False          False  2021-06-15 20:19:35  \n",
       "2            False          False  2021-06-15 20:19:35  \n",
       "3            False          False  2021-06-15 20:19:35  \n",
       "4            False          False  2021-06-15 20:19:35  \n",
       "\n",
       "[5 rows x 24 columns]"
      ]
     },
     "execution_count": 3,
     "metadata": {},
     "output_type": "execute_result"
    }
   ],
   "source": [
    "df.head(5)"
   ]
  },
  {
   "cell_type": "code",
   "execution_count": 4,
   "id": "203ccb6f",
   "metadata": {
    "execution": {
     "iopub.execute_input": "2024-05-05T14:45:53.129411Z",
     "iopub.status.busy": "2024-05-05T14:45:53.128646Z",
     "iopub.status.idle": "2024-05-05T14:45:53.135732Z",
     "shell.execute_reply": "2024-05-05T14:45:53.134700Z"
    },
    "papermill": {
     "duration": 0.03801,
     "end_time": "2024-05-05T14:45:53.137748",
     "exception": false,
     "start_time": "2024-05-05T14:45:53.099738",
     "status": "completed"
    },
    "tags": []
   },
   "outputs": [
    {
     "data": {
      "text/plain": [
       "Index(['App Name', 'App Id', 'Category', 'Rating', 'Rating Count', 'Installs',\n",
       "       'Minimum Installs', 'Maximum Installs', 'Free', 'Price', 'Currency',\n",
       "       'Size', 'Minimum Android', 'Developer Id', 'Developer Website',\n",
       "       'Developer Email', 'Released', 'Last Updated', 'Content Rating',\n",
       "       'Privacy Policy', 'Ad Supported', 'In App Purchases', 'Editors Choice',\n",
       "       'Scraped Time'],\n",
       "      dtype='object')"
      ]
     },
     "execution_count": 4,
     "metadata": {},
     "output_type": "execute_result"
    }
   ],
   "source": [
    "df.columns"
   ]
  },
  {
   "cell_type": "code",
   "execution_count": 5,
   "id": "742af25e",
   "metadata": {
    "execution": {
     "iopub.execute_input": "2024-05-05T14:45:53.252512Z",
     "iopub.status.busy": "2024-05-05T14:45:53.251781Z",
     "iopub.status.idle": "2024-05-05T14:45:53.258440Z",
     "shell.execute_reply": "2024-05-05T14:45:53.256884Z"
    },
    "papermill": {
     "duration": 0.037851,
     "end_time": "2024-05-05T14:45:53.260630",
     "exception": false,
     "start_time": "2024-05-05T14:45:53.222779",
     "status": "completed"
    },
    "tags": []
   },
   "outputs": [
    {
     "name": "stdout",
     "output_type": "stream",
     "text": [
      "The dataset's number of rows:  2312944\n",
      "The dataset's number of columns:  24\n"
     ]
    }
   ],
   "source": [
    "print(\"The dataset's number of rows: \",df.shape[0])\n",
    "print(\"The dataset's number of columns: \",df.shape[1])"
   ]
  },
  {
   "cell_type": "markdown",
   "id": "2687e6cd",
   "metadata": {
    "papermill": {
     "duration": 0.02761,
     "end_time": "2024-05-05T14:45:53.510632",
     "exception": false,
     "start_time": "2024-05-05T14:45:53.483022",
     "status": "completed"
    },
    "tags": []
   },
   "source": [
    "<a id=\"6.1\"></a>\n",
    "# <h1 style=\"color: #FF9900;\">Descriptive Statistics</h1>"
   ]
  },
  {
   "cell_type": "code",
   "execution_count": 6,
   "id": "253dc086",
   "metadata": {
    "execution": {
     "iopub.execute_input": "2024-05-05T14:45:53.568439Z",
     "iopub.status.busy": "2024-05-05T14:45:53.567771Z",
     "iopub.status.idle": "2024-05-05T14:45:54.137869Z",
     "shell.execute_reply": "2024-05-05T14:45:54.136816Z"
    },
    "papermill": {
     "duration": 0.60178,
     "end_time": "2024-05-05T14:45:54.140290",
     "exception": false,
     "start_time": "2024-05-05T14:45:53.538510",
     "status": "completed"
    },
    "tags": []
   },
   "outputs": [
    {
     "data": {
      "text/html": [
       "<div>\n",
       "<style scoped>\n",
       "    .dataframe tbody tr th:only-of-type {\n",
       "        vertical-align: middle;\n",
       "    }\n",
       "\n",
       "    .dataframe tbody tr th {\n",
       "        vertical-align: top;\n",
       "    }\n",
       "\n",
       "    .dataframe thead th {\n",
       "        text-align: right;\n",
       "    }\n",
       "</style>\n",
       "<table border=\"1\" class=\"dataframe\">\n",
       "  <thead>\n",
       "    <tr style=\"text-align: right;\">\n",
       "      <th></th>\n",
       "      <th>Rating</th>\n",
       "      <th>Rating Count</th>\n",
       "      <th>Minimum Installs</th>\n",
       "      <th>Maximum Installs</th>\n",
       "      <th>Price</th>\n",
       "    </tr>\n",
       "  </thead>\n",
       "  <tbody>\n",
       "    <tr>\n",
       "      <th>count</th>\n",
       "      <td>2.290061e+06</td>\n",
       "      <td>2.290061e+06</td>\n",
       "      <td>2.312837e+06</td>\n",
       "      <td>2.312944e+06</td>\n",
       "      <td>2.312944e+06</td>\n",
       "    </tr>\n",
       "    <tr>\n",
       "      <th>mean</th>\n",
       "      <td>2.203152e+00</td>\n",
       "      <td>2.864839e+03</td>\n",
       "      <td>1.834452e+05</td>\n",
       "      <td>3.202017e+05</td>\n",
       "      <td>1.034992e-01</td>\n",
       "    </tr>\n",
       "    <tr>\n",
       "      <th>std</th>\n",
       "      <td>2.106223e+00</td>\n",
       "      <td>2.121626e+05</td>\n",
       "      <td>1.513144e+07</td>\n",
       "      <td>2.355495e+07</td>\n",
       "      <td>2.633127e+00</td>\n",
       "    </tr>\n",
       "    <tr>\n",
       "      <th>min</th>\n",
       "      <td>0.000000e+00</td>\n",
       "      <td>0.000000e+00</td>\n",
       "      <td>0.000000e+00</td>\n",
       "      <td>0.000000e+00</td>\n",
       "      <td>0.000000e+00</td>\n",
       "    </tr>\n",
       "    <tr>\n",
       "      <th>25%</th>\n",
       "      <td>0.000000e+00</td>\n",
       "      <td>0.000000e+00</td>\n",
       "      <td>5.000000e+01</td>\n",
       "      <td>8.400000e+01</td>\n",
       "      <td>0.000000e+00</td>\n",
       "    </tr>\n",
       "    <tr>\n",
       "      <th>50%</th>\n",
       "      <td>2.900000e+00</td>\n",
       "      <td>6.000000e+00</td>\n",
       "      <td>5.000000e+02</td>\n",
       "      <td>6.950000e+02</td>\n",
       "      <td>0.000000e+00</td>\n",
       "    </tr>\n",
       "    <tr>\n",
       "      <th>75%</th>\n",
       "      <td>4.300000e+00</td>\n",
       "      <td>4.200000e+01</td>\n",
       "      <td>5.000000e+03</td>\n",
       "      <td>7.354000e+03</td>\n",
       "      <td>0.000000e+00</td>\n",
       "    </tr>\n",
       "    <tr>\n",
       "      <th>max</th>\n",
       "      <td>5.000000e+00</td>\n",
       "      <td>1.385576e+08</td>\n",
       "      <td>1.000000e+10</td>\n",
       "      <td>1.205763e+10</td>\n",
       "      <td>4.000000e+02</td>\n",
       "    </tr>\n",
       "  </tbody>\n",
       "</table>\n",
       "</div>"
      ],
      "text/plain": [
       "             Rating  Rating Count  Minimum Installs  Maximum Installs  \\\n",
       "count  2.290061e+06  2.290061e+06      2.312837e+06      2.312944e+06   \n",
       "mean   2.203152e+00  2.864839e+03      1.834452e+05      3.202017e+05   \n",
       "std    2.106223e+00  2.121626e+05      1.513144e+07      2.355495e+07   \n",
       "min    0.000000e+00  0.000000e+00      0.000000e+00      0.000000e+00   \n",
       "25%    0.000000e+00  0.000000e+00      5.000000e+01      8.400000e+01   \n",
       "50%    2.900000e+00  6.000000e+00      5.000000e+02      6.950000e+02   \n",
       "75%    4.300000e+00  4.200000e+01      5.000000e+03      7.354000e+03   \n",
       "max    5.000000e+00  1.385576e+08      1.000000e+10      1.205763e+10   \n",
       "\n",
       "              Price  \n",
       "count  2.312944e+06  \n",
       "mean   1.034992e-01  \n",
       "std    2.633127e+00  \n",
       "min    0.000000e+00  \n",
       "25%    0.000000e+00  \n",
       "50%    0.000000e+00  \n",
       "75%    0.000000e+00  \n",
       "max    4.000000e+02  "
      ]
     },
     "execution_count": 6,
     "metadata": {},
     "output_type": "execute_result"
    }
   ],
   "source": [
    "df.describe()"
   ]
  },
  {
   "cell_type": "markdown",
   "id": "fee7fe14",
   "metadata": {
    "papermill": {
     "duration": 0.02794,
     "end_time": "2024-05-05T14:45:54.253353",
     "exception": false,
     "start_time": "2024-05-05T14:45:54.225413",
     "status": "completed"
    },
    "tags": []
   },
   "source": [
    "\n",
    "- To check for missing values in the dataset"
   ]
  },
  {
   "cell_type": "code",
   "execution_count": 7,
   "id": "53e6ef5a",
   "metadata": {
    "execution": {
     "iopub.execute_input": "2024-05-05T14:45:54.311160Z",
     "iopub.status.busy": "2024-05-05T14:45:54.310767Z",
     "iopub.status.idle": "2024-05-05T14:45:55.941356Z",
     "shell.execute_reply": "2024-05-05T14:45:55.940264Z"
    },
    "papermill": {
     "duration": 1.662329,
     "end_time": "2024-05-05T14:45:55.943743",
     "exception": false,
     "start_time": "2024-05-05T14:45:54.281414",
     "status": "completed"
    },
    "tags": []
   },
   "outputs": [
    {
     "data": {
      "text/plain": [
       "Developer Website    760835\n",
       "Privacy Policy       420953\n",
       "Released              71053\n",
       "Rating                22883\n",
       "Rating Count          22883\n",
       "Minimum Android        6530\n",
       "Size                    196\n",
       "Currency                135\n",
       "Installs                107\n",
       "Minimum Installs        107\n",
       "Developer Id             33\n",
       "Developer Email          31\n",
       "App Name                  2\n",
       "App Id                    0\n",
       "Price                     0\n",
       "Free                      0\n",
       "Maximum Installs          0\n",
       "Last Updated              0\n",
       "Content Rating            0\n",
       "Category                  0\n",
       "Ad Supported              0\n",
       "In App Purchases          0\n",
       "Editors Choice            0\n",
       "Scraped Time              0\n",
       "dtype: int64"
      ]
     },
     "execution_count": 7,
     "metadata": {},
     "output_type": "execute_result"
    }
   ],
   "source": [
    "df.isnull().sum().sort_values(ascending=False)"
   ]
  },
  {
   "cell_type": "markdown",
   "id": "d081763a",
   "metadata": {
    "papermill": {
     "duration": 0.028329,
     "end_time": "2024-05-05T14:45:56.000540",
     "exception": false,
     "start_time": "2024-05-05T14:45:55.972211",
     "status": "completed"
    },
    "tags": []
   },
   "source": [
    "- To calculate the percentage of missing values in the dataset"
   ]
  },
  {
   "cell_type": "code",
   "execution_count": 8,
   "id": "0ff50bf6",
   "metadata": {
    "execution": {
     "iopub.execute_input": "2024-05-05T14:45:56.058764Z",
     "iopub.status.busy": "2024-05-05T14:45:56.058402Z",
     "iopub.status.idle": "2024-05-05T14:45:57.703194Z",
     "shell.execute_reply": "2024-05-05T14:45:57.702259Z"
    },
    "papermill": {
     "duration": 1.676825,
     "end_time": "2024-05-05T14:45:57.705612",
     "exception": false,
     "start_time": "2024-05-05T14:45:56.028787",
     "status": "completed"
    },
    "tags": []
   },
   "outputs": [
    {
     "data": {
      "text/plain": [
       "Developer Website    32.894657\n",
       "Privacy Policy       18.199879\n",
       "Released              3.071972\n",
       "Rating                0.989345\n",
       "Rating Count          0.989345\n",
       "Minimum Android       0.282324\n",
       "Size                  0.008474\n",
       "Currency              0.005837\n",
       "Installs              0.004626\n",
       "Minimum Installs      0.004626\n",
       "Developer Id          0.001427\n",
       "Developer Email       0.001340\n",
       "App Name              0.000086\n",
       "App Id                0.000000\n",
       "Price                 0.000000\n",
       "Free                  0.000000\n",
       "Maximum Installs      0.000000\n",
       "Last Updated          0.000000\n",
       "Content Rating        0.000000\n",
       "Category              0.000000\n",
       "Ad Supported          0.000000\n",
       "In App Purchases      0.000000\n",
       "Editors Choice        0.000000\n",
       "Scraped Time          0.000000\n",
       "dtype: float64"
      ]
     },
     "execution_count": 8,
     "metadata": {},
     "output_type": "execute_result"
    }
   ],
   "source": [
    "df.isnull().sum().sort_values(ascending=False)/len(df)*100"
   ]
  },
  {
   "cell_type": "markdown",
   "id": "d6416a3f",
   "metadata": {
    "papermill": {
     "duration": 0.031457,
     "end_time": "2024-05-05T14:45:57.768585",
     "exception": false,
     "start_time": "2024-05-05T14:45:57.737128",
     "status": "completed"
    },
    "tags": []
   },
   "source": [
    "<a id=\"7\"></a>\n",
    "<h1 style=\"background-color:#334460;font-family:newtimeroman;font-size:300%;text-align:center;border-radius: 15px 50px;color:#FF9900;\">Data Visualization</h1>"
   ]
  },
  {
   "cell_type": "markdown",
   "id": "6a1ef6cd",
   "metadata": {
    "papermill": {
     "duration": 0.029041,
     "end_time": "2024-05-05T14:45:57.901104",
     "exception": false,
     "start_time": "2024-05-05T14:45:57.872063",
     "status": "completed"
    },
    "tags": []
   },
   "source": [
    "- To create a plot visualizing the missing values in the dataset."
   ]
  },
  {
   "cell_type": "code",
   "execution_count": 9,
   "id": "ae4e35c4",
   "metadata": {
    "execution": {
     "iopub.execute_input": "2024-05-05T14:45:57.962302Z",
     "iopub.status.busy": "2024-05-05T14:45:57.961472Z",
     "iopub.status.idle": "2024-05-05T14:47:15.089930Z",
     "shell.execute_reply": "2024-05-05T14:47:15.088695Z"
    },
    "papermill": {
     "duration": 77.191532,
     "end_time": "2024-05-05T14:47:15.121758",
     "exception": false,
     "start_time": "2024-05-05T14:45:57.930226",
     "status": "completed"
    },
    "tags": []
   },
   "outputs": [
    {
     "data": {
      "text/plain": [
       "Text(0.5, 1.0, 'Missing Value Heatmap')"
      ]
     },
     "execution_count": 9,
     "metadata": {},
     "output_type": "execute_result"
    },
    {
     "data": {
      "image/png": "[encoded data removed]",
      "text/plain": [
       "<Figure size 1200x600 with 1 Axes>"
      ]
     },
     "metadata": {},
     "output_type": "display_data"
    }
   ],
   "source": [
    "# create a missing value plot\n",
    "import matplotlib\n",
    "matplotlib.rcParams['figure.figsize'] = (12, 6)\n",
    "sns.heatmap(df.isnull(), yticklabels=False, cbar=False, cmap='viridis')\n",
    "plt.title('Missing Value Heatmap')\n",
    "\n",
    "\n"
   ]
  },
  {
   "cell_type": "code",
   "execution_count": 10,
   "id": "2d754814",
   "metadata": {
    "execution": {
     "iopub.execute_input": "2024-05-05T14:47:15.300773Z",
     "iopub.status.busy": "2024-05-05T14:47:15.300416Z",
     "iopub.status.idle": "2024-05-05T14:47:16.844299Z",
     "shell.execute_reply": "2024-05-05T14:47:16.843203Z"
    },
    "papermill": {
     "duration": 1.577323,
     "end_time": "2024-05-05T14:47:16.846898",
     "exception": false,
     "start_time": "2024-05-05T14:47:15.269575",
     "status": "completed"
    },
    "tags": []
   },
   "outputs": [],
   "source": [
    "df.dropna(subset=['Size', 'Currency', 'Installs', 'Minimum Installs', 'App Name','Developer Id', 'Developer Email'  ], inplace=True)"
   ]
  },
  {
   "cell_type": "code",
   "execution_count": 11,
   "id": "7cf7fe27",
   "metadata": {
    "execution": {
     "iopub.execute_input": "2024-05-05T14:47:16.909005Z",
     "iopub.status.busy": "2024-05-05T14:47:16.908580Z",
     "iopub.status.idle": "2024-05-05T14:47:18.544151Z",
     "shell.execute_reply": "2024-05-05T14:47:18.543390Z"
    },
    "papermill": {
     "duration": 1.669177,
     "end_time": "2024-05-05T14:47:18.546061",
     "exception": false,
     "start_time": "2024-05-05T14:47:16.876884",
     "status": "completed"
    },
    "tags": []
   },
   "outputs": [
    {
     "data": {
      "text/plain": [
       "App Name                  0\n",
       "App Id                    0\n",
       "Category                  0\n",
       "Rating                22572\n",
       "Rating Count          22572\n",
       "Installs                  0\n",
       "Minimum Installs          0\n",
       "Maximum Installs          0\n",
       "Free                      0\n",
       "Price                     0\n",
       "Currency                  0\n",
       "Size                      0\n",
       "Minimum Android        6530\n",
       "Developer Id              0\n",
       "Developer Website    760716\n",
       "Developer Email           0\n",
       "Released              70748\n",
       "Last Updated              0\n",
       "Content Rating            0\n",
       "Privacy Policy       420845\n",
       "Ad Supported              0\n",
       "In App Purchases          0\n",
       "Editors Choice            0\n",
       "Scraped Time              0\n",
       "dtype: int64"
      ]
     },
     "execution_count": 11,
     "metadata": {},
     "output_type": "execute_result"
    }
   ],
   "source": [
    "df.isnull().sum()"
   ]
  },
  {
   "cell_type": "markdown",
   "id": "e25529fa",
   "metadata": {
    "papermill": {
     "duration": 0.029547,
     "end_time": "2024-05-05T14:47:18.605566",
     "exception": false,
     "start_time": "2024-05-05T14:47:18.576019",
     "status": "completed"
    },
    "tags": []
   },
   "source": [
    "<a id=\"8\"></a>\n",
    "<h1 style=\"background-color:#334460;font-family:newtimeroman;font-size:300%;text-align:center;border-radius: 15px 50px;color:#FF9900;\">Dealing With Duplicates</h1>"
   ]
  },
  {
   "cell_type": "code",
   "execution_count": 12,
   "id": "0ef376f1",
   "metadata": {
    "execution": {
     "iopub.execute_input": "2024-05-05T14:47:18.785618Z",
     "iopub.status.busy": "2024-05-05T14:47:18.785252Z",
     "iopub.status.idle": "2024-05-05T14:47:19.839221Z",
     "shell.execute_reply": "2024-05-05T14:47:19.838157Z"
    },
    "papermill": {
     "duration": 1.087135,
     "end_time": "2024-05-05T14:47:19.841160",
     "exception": false,
     "start_time": "2024-05-05T14:47:18.754025",
     "status": "completed"
    },
    "tags": []
   },
   "outputs": [
    {
     "data": {
      "text/plain": [
       "True"
      ]
     },
     "execution_count": 12,
     "metadata": {},
     "output_type": "execute_result"
    }
   ],
   "source": [
    "df['App Name'].duplicated().any()"
   ]
  },
  {
   "cell_type": "code",
   "execution_count": 13,
   "id": "4230dd85",
   "metadata": {
    "execution": {
     "iopub.execute_input": "2024-05-05T14:47:19.904149Z",
     "iopub.status.busy": "2024-05-05T14:47:19.903746Z",
     "iopub.status.idle": "2024-05-05T14:47:22.988787Z",
     "shell.execute_reply": "2024-05-05T14:47:22.987513Z"
    },
    "papermill": {
     "duration": 3.119591,
     "end_time": "2024-05-05T14:47:22.991109",
     "exception": false,
     "start_time": "2024-05-05T14:47:19.871518",
     "status": "completed"
    },
    "tags": []
   },
   "outputs": [
    {
     "data": {
      "text/plain": [
       "Tic Tac Toe                     382\n",
       "Calculator                      261\n",
       "Flashlight                      256\n",
       "BMI Calculator                  201\n",
       "Age Calculator                  190\n",
       "                               ... \n",
       "Foodiz Resto                      1\n",
       "Astra OtoReward                   1\n",
       "MedTerm Dictionary                1\n",
       "Urban garden and sowing.          1\n",
       "Biliyor Musun - Sonsuz Yarış      1\n",
       "Name: App Name, Length: 2177593, dtype: int64"
      ]
     },
     "execution_count": 13,
     "metadata": {},
     "output_type": "execute_result"
    }
   ],
   "source": [
    "# apply counts funtions\n",
    "df['App Name'].value_counts()"
   ]
  },
  {
   "cell_type": "code",
   "execution_count": 14,
   "id": "5560309e",
   "metadata": {
    "execution": {
     "iopub.execute_input": "2024-05-05T14:47:23.053448Z",
     "iopub.status.busy": "2024-05-05T14:47:23.052291Z",
     "iopub.status.idle": "2024-05-05T14:47:23.259024Z",
     "shell.execute_reply": "2024-05-05T14:47:23.257887Z"
    },
    "papermill": {
     "duration": 0.240588,
     "end_time": "2024-05-05T14:47:23.261635",
     "exception": false,
     "start_time": "2024-05-05T14:47:23.021047",
     "status": "completed"
    },
    "tags": []
   },
   "outputs": [
    {
     "data": {
      "text/html": [
       "<div>\n",
       "<style scoped>\n",
       "    .dataframe tbody tr th:only-of-type {\n",
       "        vertical-align: middle;\n",
       "    }\n",
       "\n",
       "    .dataframe tbody tr th {\n",
       "        vertical-align: top;\n",
       "    }\n",
       "\n",
       "    .dataframe thead th {\n",
       "        text-align: right;\n",
       "    }\n",
       "</style>\n",
       "<table border=\"1\" class=\"dataframe\">\n",
       "  <thead>\n",
       "    <tr style=\"text-align: right;\">\n",
       "      <th></th>\n",
       "      <th>App Name</th>\n",
       "      <th>App Id</th>\n",
       "      <th>Category</th>\n",
       "      <th>Rating</th>\n",
       "      <th>Rating Count</th>\n",
       "      <th>Installs</th>\n",
       "      <th>Minimum Installs</th>\n",
       "      <th>Maximum Installs</th>\n",
       "      <th>Free</th>\n",
       "      <th>Price</th>\n",
       "      <th>...</th>\n",
       "      <th>Developer Website</th>\n",
       "      <th>Developer Email</th>\n",
       "      <th>Released</th>\n",
       "      <th>Last Updated</th>\n",
       "      <th>Content Rating</th>\n",
       "      <th>Privacy Policy</th>\n",
       "      <th>Ad Supported</th>\n",
       "      <th>In App Purchases</th>\n",
       "      <th>Editors Choice</th>\n",
       "      <th>Scraped Time</th>\n",
       "    </tr>\n",
       "  </thead>\n",
       "  <tbody>\n",
       "    <tr>\n",
       "      <th>3918</th>\n",
       "      <td>Tic Tac Toe</td>\n",
       "      <td>com.dev.atte.tic_tac_toe</td>\n",
       "      <td>Puzzle</td>\n",
       "      <td>0.0</td>\n",
       "      <td>0.0</td>\n",
       "      <td>10+</td>\n",
       "      <td>10.0</td>\n",
       "      <td>30</td>\n",
       "      <td>True</td>\n",
       "      <td>0.0</td>\n",
       "      <td>...</td>\n",
       "      <td>https://ne2ad32ee.app-ads-txt.com</td>\n",
       "      <td>dev.atte.francois@gmail.com</td>\n",
       "      <td>May 18, 2018</td>\n",
       "      <td>May 18, 2018</td>\n",
       "      <td>Everyone</td>\n",
       "      <td>NaN</td>\n",
       "      <td>True</td>\n",
       "      <td>False</td>\n",
       "      <td>False</td>\n",
       "      <td>2021-06-15 20:23:22</td>\n",
       "    </tr>\n",
       "    <tr>\n",
       "      <th>13758</th>\n",
       "      <td>Tic Tac Toe</td>\n",
       "      <td>com.md.tictactoe</td>\n",
       "      <td>Board</td>\n",
       "      <td>0.0</td>\n",
       "      <td>0.0</td>\n",
       "      <td>10+</td>\n",
       "      <td>10.0</td>\n",
       "      <td>31</td>\n",
       "      <td>True</td>\n",
       "      <td>0.0</td>\n",
       "      <td>...</td>\n",
       "      <td>NaN</td>\n",
       "      <td>msms.zaman@gmail.com</td>\n",
       "      <td>Nov 2, 2020</td>\n",
       "      <td>Nov 18, 2020</td>\n",
       "      <td>Everyone</td>\n",
       "      <td>https://smartdailytools.blogspot.com/2020/09/p...</td>\n",
       "      <td>True</td>\n",
       "      <td>False</td>\n",
       "      <td>False</td>\n",
       "      <td>2021-06-15 20:32:58</td>\n",
       "    </tr>\n",
       "    <tr>\n",
       "      <th>25351</th>\n",
       "      <td>Tic Tac Toe</td>\n",
       "      <td>com.sthirumuru.tictactoenew</td>\n",
       "      <td>Board</td>\n",
       "      <td>4.2</td>\n",
       "      <td>11.0</td>\n",
       "      <td>5,000+</td>\n",
       "      <td>5000.0</td>\n",
       "      <td>6379</td>\n",
       "      <td>True</td>\n",
       "      <td>0.0</td>\n",
       "      <td>...</td>\n",
       "      <td>NaN</td>\n",
       "      <td>sundeep.thirumuru@gmail.com</td>\n",
       "      <td>Apr 13, 2021</td>\n",
       "      <td>Jun 03, 2021</td>\n",
       "      <td>Everyone</td>\n",
       "      <td>NaN</td>\n",
       "      <td>True</td>\n",
       "      <td>False</td>\n",
       "      <td>False</td>\n",
       "      <td>2021-06-15 20:44:27</td>\n",
       "    </tr>\n",
       "    <tr>\n",
       "      <th>28142</th>\n",
       "      <td>Tic Tac Toe</td>\n",
       "      <td>com.fsk00x.TicTacToe</td>\n",
       "      <td>Board</td>\n",
       "      <td>0.0</td>\n",
       "      <td>0.0</td>\n",
       "      <td>500+</td>\n",
       "      <td>500.0</td>\n",
       "      <td>922</td>\n",
       "      <td>True</td>\n",
       "      <td>0.0</td>\n",
       "      <td>...</td>\n",
       "      <td>NaN</td>\n",
       "      <td>devmethyl@outlook.com</td>\n",
       "      <td>Feb 13, 2020</td>\n",
       "      <td>Feb 13, 2020</td>\n",
       "      <td>Everyone</td>\n",
       "      <td>NaN</td>\n",
       "      <td>True</td>\n",
       "      <td>False</td>\n",
       "      <td>False</td>\n",
       "      <td>2021-06-15 20:47:17</td>\n",
       "    </tr>\n",
       "    <tr>\n",
       "      <th>30962</th>\n",
       "      <td>Tic Tac Toe</td>\n",
       "      <td>net.snatchdreams.tictactoe</td>\n",
       "      <td>Puzzle</td>\n",
       "      <td>0.0</td>\n",
       "      <td>0.0</td>\n",
       "      <td>10+</td>\n",
       "      <td>10.0</td>\n",
       "      <td>38</td>\n",
       "      <td>True</td>\n",
       "      <td>0.0</td>\n",
       "      <td>...</td>\n",
       "      <td>https://www.snatchdreams.net</td>\n",
       "      <td>snatchdreams@gmail.com</td>\n",
       "      <td>Jul 16, 2017</td>\n",
       "      <td>Oct 16, 2019</td>\n",
       "      <td>Everyone</td>\n",
       "      <td>https://www.snatchdreams.net/privacy/tic-tac-toe/</td>\n",
       "      <td>True</td>\n",
       "      <td>False</td>\n",
       "      <td>False</td>\n",
       "      <td>2021-06-15 20:50:12</td>\n",
       "    </tr>\n",
       "    <tr>\n",
       "      <th>...</th>\n",
       "      <td>...</td>\n",
       "      <td>...</td>\n",
       "      <td>...</td>\n",
       "      <td>...</td>\n",
       "      <td>...</td>\n",
       "      <td>...</td>\n",
       "      <td>...</td>\n",
       "      <td>...</td>\n",
       "      <td>...</td>\n",
       "      <td>...</td>\n",
       "      <td>...</td>\n",
       "      <td>...</td>\n",
       "      <td>...</td>\n",
       "      <td>...</td>\n",
       "      <td>...</td>\n",
       "      <td>...</td>\n",
       "      <td>...</td>\n",
       "      <td>...</td>\n",
       "      <td>...</td>\n",
       "      <td>...</td>\n",
       "      <td>...</td>\n",
       "    </tr>\n",
       "    <tr>\n",
       "      <th>2272773</th>\n",
       "      <td>Tic Tac Toe</td>\n",
       "      <td>com.tictactoe.MobileAppsPro</td>\n",
       "      <td>Board</td>\n",
       "      <td>3.8</td>\n",
       "      <td>9269.0</td>\n",
       "      <td>500,000+</td>\n",
       "      <td>500000.0</td>\n",
       "      <td>800662</td>\n",
       "      <td>True</td>\n",
       "      <td>0.0</td>\n",
       "      <td>...</td>\n",
       "      <td>NaN</td>\n",
       "      <td>smartyka@gmail.com</td>\n",
       "      <td>Jan 9, 2015</td>\n",
       "      <td>May 20, 2015</td>\n",
       "      <td>Everyone</td>\n",
       "      <td>http://mobileappspro.yolasite.com</td>\n",
       "      <td>True</td>\n",
       "      <td>False</td>\n",
       "      <td>False</td>\n",
       "      <td>2021-06-16 12:23:56</td>\n",
       "    </tr>\n",
       "    <tr>\n",
       "      <th>2281376</th>\n",
       "      <td>Tic Tac Toe</td>\n",
       "      <td>com.erjainam.tictactoe.release</td>\n",
       "      <td>Board</td>\n",
       "      <td>0.0</td>\n",
       "      <td>0.0</td>\n",
       "      <td>50+</td>\n",
       "      <td>50.0</td>\n",
       "      <td>50</td>\n",
       "      <td>True</td>\n",
       "      <td>0.0</td>\n",
       "      <td>...</td>\n",
       "      <td>https://erjainam.com</td>\n",
       "      <td>engineerjainam@gmail.com</td>\n",
       "      <td>Sep 2, 2018</td>\n",
       "      <td>Sep 02, 2018</td>\n",
       "      <td>Everyone</td>\n",
       "      <td>https://docs.google.com/document/d/1Tyi5D3VxZu...</td>\n",
       "      <td>True</td>\n",
       "      <td>False</td>\n",
       "      <td>False</td>\n",
       "      <td>2021-06-16 12:31:30</td>\n",
       "    </tr>\n",
       "    <tr>\n",
       "      <th>2282023</th>\n",
       "      <td>Tic Tac Toe</td>\n",
       "      <td>com.swapworld.tic_tac_toe</td>\n",
       "      <td>Board</td>\n",
       "      <td>4.7</td>\n",
       "      <td>7.0</td>\n",
       "      <td>10+</td>\n",
       "      <td>10.0</td>\n",
       "      <td>34</td>\n",
       "      <td>True</td>\n",
       "      <td>0.0</td>\n",
       "      <td>...</td>\n",
       "      <td>http://prudhvikchirunomula.pythonanywhere.com/</td>\n",
       "      <td>prudhvik.1996@gmail.com</td>\n",
       "      <td>Sep 4, 2019</td>\n",
       "      <td>Sep 17, 2019</td>\n",
       "      <td>Everyone</td>\n",
       "      <td>NaN</td>\n",
       "      <td>False</td>\n",
       "      <td>False</td>\n",
       "      <td>False</td>\n",
       "      <td>2021-06-16 12:32:05</td>\n",
       "    </tr>\n",
       "    <tr>\n",
       "      <th>2299121</th>\n",
       "      <td>Tic Tac Toe</td>\n",
       "      <td>com.infuse.tictactoe</td>\n",
       "      <td>Board</td>\n",
       "      <td>4.8</td>\n",
       "      <td>20.0</td>\n",
       "      <td>100+</td>\n",
       "      <td>100.0</td>\n",
       "      <td>462</td>\n",
       "      <td>True</td>\n",
       "      <td>0.0</td>\n",
       "      <td>...</td>\n",
       "      <td>http://www.infuseapps.com</td>\n",
       "      <td>infuseandroidapps@gmail.com</td>\n",
       "      <td>Jan 18, 2015</td>\n",
       "      <td>Jan 18, 2015</td>\n",
       "      <td>Everyone</td>\n",
       "      <td>NaN</td>\n",
       "      <td>True</td>\n",
       "      <td>False</td>\n",
       "      <td>False</td>\n",
       "      <td>2021-06-16 12:47:11</td>\n",
       "    </tr>\n",
       "    <tr>\n",
       "      <th>2310375</th>\n",
       "      <td>Tic Tac Toe</td>\n",
       "      <td>com.justmailtoavi.avinashk.threet</td>\n",
       "      <td>Puzzle</td>\n",
       "      <td>4.7</td>\n",
       "      <td>10.0</td>\n",
       "      <td>100+</td>\n",
       "      <td>100.0</td>\n",
       "      <td>173</td>\n",
       "      <td>True</td>\n",
       "      <td>0.0</td>\n",
       "      <td>...</td>\n",
       "      <td>NaN</td>\n",
       "      <td>justmailtoavi@gmail.com</td>\n",
       "      <td>Mar 30, 2016</td>\n",
       "      <td>Apr 01, 2016</td>\n",
       "      <td>Everyone</td>\n",
       "      <td>NaN</td>\n",
       "      <td>False</td>\n",
       "      <td>False</td>\n",
       "      <td>False</td>\n",
       "      <td>2021-06-16 12:57:05</td>\n",
       "    </tr>\n",
       "  </tbody>\n",
       "</table>\n",
       "<p>382 rows × 24 columns</p>\n",
       "</div>"
      ],
      "text/plain": [
       "            App Name                             App Id Category  Rating  \\\n",
       "3918     Tic Tac Toe           com.dev.atte.tic_tac_toe   Puzzle     0.0   \n",
       "13758    Tic Tac Toe                   com.md.tictactoe    Board     0.0   \n",
       "25351    Tic Tac Toe        com.sthirumuru.tictactoenew    Board     4.2   \n",
       "28142    Tic Tac Toe               com.fsk00x.TicTacToe    Board     0.0   \n",
       "30962    Tic Tac Toe         net.snatchdreams.tictactoe   Puzzle     0.0   \n",
       "...              ...                                ...      ...     ...   \n",
       "2272773  Tic Tac Toe        com.tictactoe.MobileAppsPro    Board     3.8   \n",
       "2281376  Tic Tac Toe     com.erjainam.tictactoe.release    Board     0.0   \n",
       "2282023  Tic Tac Toe          com.swapworld.tic_tac_toe    Board     4.7   \n",
       "2299121  Tic Tac Toe               com.infuse.tictactoe    Board     4.8   \n",
       "2310375  Tic Tac Toe  com.justmailtoavi.avinashk.threet   Puzzle     4.7   \n",
       "\n",
       "         Rating Count  Installs  Minimum Installs  Maximum Installs  Free  \\\n",
       "3918              0.0       10+              10.0                30  True   \n",
       "13758             0.0       10+              10.0                31  True   \n",
       "25351            11.0    5,000+            5000.0              6379  True   \n",
       "28142             0.0      500+             500.0               922  True   \n",
       "30962             0.0       10+              10.0                38  True   \n",
       "...               ...       ...               ...               ...   ...   \n",
       "2272773        9269.0  500,000+          500000.0            800662  True   \n",
       "2281376           0.0       50+              50.0                50  True   \n",
       "2282023           7.0       10+              10.0                34  True   \n",
       "2299121          20.0      100+             100.0               462  True   \n",
       "2310375          10.0      100+             100.0               173  True   \n",
       "\n",
       "         Price  ...                               Developer Website  \\\n",
       "3918       0.0  ...               https://ne2ad32ee.app-ads-txt.com   \n",
       "13758      0.0  ...                                             NaN   \n",
       "25351      0.0  ...                                             NaN   \n",
       "28142      0.0  ...                                             NaN   \n",
       "30962      0.0  ...                    https://www.snatchdreams.net   \n",
       "...        ...  ...                                             ...   \n",
       "2272773    0.0  ...                                             NaN   \n",
       "2281376    0.0  ...                            https://erjainam.com   \n",
       "2282023    0.0  ...  http://prudhvikchirunomula.pythonanywhere.com/   \n",
       "2299121    0.0  ...                       http://www.infuseapps.com   \n",
       "2310375    0.0  ...                                             NaN   \n",
       "\n",
       "                     Developer Email      Released  Last Updated  \\\n",
       "3918     dev.atte.francois@gmail.com  May 18, 2018  May 18, 2018   \n",
       "13758           msms.zaman@gmail.com   Nov 2, 2020  Nov 18, 2020   \n",
       "25351    sundeep.thirumuru@gmail.com  Apr 13, 2021  Jun 03, 2021   \n",
       "28142          devmethyl@outlook.com  Feb 13, 2020  Feb 13, 2020   \n",
       "30962         snatchdreams@gmail.com  Jul 16, 2017  Oct 16, 2019   \n",
       "...                              ...           ...           ...   \n",
       "2272773           smartyka@gmail.com   Jan 9, 2015  May 20, 2015   \n",
       "2281376     engineerjainam@gmail.com   Sep 2, 2018  Sep 02, 2018   \n",
       "2282023      prudhvik.1996@gmail.com   Sep 4, 2019  Sep 17, 2019   \n",
       "2299121  infuseandroidapps@gmail.com  Jan 18, 2015  Jan 18, 2015   \n",
       "2310375      justmailtoavi@gmail.com  Mar 30, 2016  Apr 01, 2016   \n",
       "\n",
       "        Content Rating                                     Privacy Policy  \\\n",
       "3918          Everyone                                                NaN   \n",
       "13758         Everyone  https://smartdailytools.blogspot.com/2020/09/p...   \n",
       "25351         Everyone                                                NaN   \n",
       "28142         Everyone                                                NaN   \n",
       "30962         Everyone  https://www.snatchdreams.net/privacy/tic-tac-toe/   \n",
       "...                ...                                                ...   \n",
       "2272773       Everyone                  http://mobileappspro.yolasite.com   \n",
       "2281376       Everyone  https://docs.google.com/document/d/1Tyi5D3VxZu...   \n",
       "2282023       Everyone                                                NaN   \n",
       "2299121       Everyone                                                NaN   \n",
       "2310375       Everyone                                                NaN   \n",
       "\n",
       "        Ad Supported In App Purchases Editors Choice         Scraped Time  \n",
       "3918            True            False          False  2021-06-15 20:23:22  \n",
       "13758           True            False          False  2021-06-15 20:32:58  \n",
       "25351           True            False          False  2021-06-15 20:44:27  \n",
       "28142           True            False          False  2021-06-15 20:47:17  \n",
       "30962           True            False          False  2021-06-15 20:50:12  \n",
       "...              ...              ...            ...                  ...  \n",
       "2272773         True            False          False  2021-06-16 12:23:56  \n",
       "2281376         True            False          False  2021-06-16 12:31:30  \n",
       "2282023        False            False          False  2021-06-16 12:32:05  \n",
       "2299121         True            False          False  2021-06-16 12:47:11  \n",
       "2310375        False            False          False  2021-06-16 12:57:05  \n",
       "\n",
       "[382 rows x 24 columns]"
      ]
     },
     "execution_count": 14,
     "metadata": {},
     "output_type": "execute_result"
    }
   ],
   "source": [
    "# Select only Tic Tac Toe app name\n",
    "\n",
    "df[df['App Name'] == 'Tic Tac Toe']"
   ]
  },
  {
   "cell_type": "markdown",
   "id": "f0961a3b",
   "metadata": {
    "papermill": {
     "duration": 0.030782,
     "end_time": "2024-05-05T14:47:23.386740",
     "exception": false,
     "start_time": "2024-05-05T14:47:23.355958",
     "status": "completed"
    },
    "tags": []
   },
   "source": [
    "# <h1 style=\"color: #FF9900;\">Now let's investigate the numbers</h1>\n"
   ]
  },
  {
   "cell_type": "code",
   "execution_count": 15,
   "id": "07a7c12b",
   "metadata": {
    "execution": {
     "iopub.execute_input": "2024-05-05T14:47:23.450725Z",
     "iopub.status.busy": "2024-05-05T14:47:23.450352Z",
     "iopub.status.idle": "2024-05-05T14:47:23.621517Z",
     "shell.execute_reply": "2024-05-05T14:47:23.619991Z"
    },
    "papermill": {
     "duration": 0.206196,
     "end_time": "2024-05-05T14:47:23.623964",
     "exception": false,
     "start_time": "2024-05-05T14:47:23.417768",
     "status": "completed"
    },
    "tags": []
   },
   "outputs": [
    {
     "data": {
      "text/plain": [
       "array(['10+', '5,000+', '50+', '100+', '1,000+', '500+', '50,000+',\n",
       "       '10,000+', '1+', '500,000+', '100,000+', '5+', '10,000,000+',\n",
       "       '1,000,000+', '5,000,000+', '0+', '100,000,000+', '50,000,000+',\n",
       "       '1,000,000,000+', '500,000,000+', '5,000,000,000+',\n",
       "       '10,000,000,000+'], dtype=object)"
      ]
     },
     "execution_count": 15,
     "metadata": {},
     "output_type": "execute_result"
    }
   ],
   "source": [
    "df['Installs'].unique()"
   ]
  },
  {
   "cell_type": "markdown",
   "id": "ab340d6a",
   "metadata": {
    "papermill": {
     "duration": 0.030703,
     "end_time": "2024-05-05T14:47:23.686056",
     "exception": false,
     "start_time": "2024-05-05T14:47:23.655353",
     "status": "completed"
    },
    "tags": []
   },
   "source": [
    "- We must convert it from the object type to the int type."
   ]
  },
  {
   "cell_type": "code",
   "execution_count": 16,
   "id": "18f04780",
   "metadata": {
    "execution": {
     "iopub.execute_input": "2024-05-05T14:47:23.764033Z",
     "iopub.status.busy": "2024-05-05T14:47:23.763657Z",
     "iopub.status.idle": "2024-05-05T14:47:24.533362Z",
     "shell.execute_reply": "2024-05-05T14:47:24.532483Z"
    },
    "papermill": {
     "duration": 0.814649,
     "end_time": "2024-05-05T14:47:24.535914",
     "exception": false,
     "start_time": "2024-05-05T14:47:23.721265",
     "status": "completed"
    },
    "tags": []
   },
   "outputs": [],
   "source": [
    "# Remove the + symbol\n",
    "df['Installs'] = df['Installs'].apply(lambda x: x.replace('+', ''))"
   ]
  },
  {
   "cell_type": "code",
   "execution_count": 17,
   "id": "84ec1e14",
   "metadata": {
    "execution": {
     "iopub.execute_input": "2024-05-05T14:47:24.601896Z",
     "iopub.status.busy": "2024-05-05T14:47:24.601279Z",
     "iopub.status.idle": "2024-05-05T14:47:25.330437Z",
     "shell.execute_reply": "2024-05-05T14:47:25.329265Z"
    },
    "papermill": {
     "duration": 0.764782,
     "end_time": "2024-05-05T14:47:25.332889",
     "exception": false,
     "start_time": "2024-05-05T14:47:24.568107",
     "status": "completed"
    },
    "tags": []
   },
   "outputs": [],
   "source": [
    "# Replace the comas ',' in the installs columns\n",
    "\n",
    "df['Installs'] = df['Installs'].apply(lambda x: x.replace(',', ''))"
   ]
  },
  {
   "cell_type": "code",
   "execution_count": 18,
   "id": "a5333c29",
   "metadata": {
    "execution": {
     "iopub.execute_input": "2024-05-05T14:47:25.397303Z",
     "iopub.status.busy": "2024-05-05T14:47:25.396644Z",
     "iopub.status.idle": "2024-05-05T14:47:25.693200Z",
     "shell.execute_reply": "2024-05-05T14:47:25.692377Z"
    },
    "papermill": {
     "duration": 0.331603,
     "end_time": "2024-05-05T14:47:25.695625",
     "exception": false,
     "start_time": "2024-05-05T14:47:25.364022",
     "status": "completed"
    },
    "tags": []
   },
   "outputs": [],
   "source": [
    "# Convert 'Installs' column to np.int64 type\n",
    "df['Installs'] = df['Installs'].astype(np.int64)"
   ]
  },
  {
   "cell_type": "code",
   "execution_count": 19,
   "id": "79d35678",
   "metadata": {
    "execution": {
     "iopub.execute_input": "2024-05-05T14:47:25.759922Z",
     "iopub.status.busy": "2024-05-05T14:47:25.759281Z",
     "iopub.status.idle": "2024-05-05T14:47:25.780345Z",
     "shell.execute_reply": "2024-05-05T14:47:25.779234Z"
    },
    "papermill": {
     "duration": 0.055892,
     "end_time": "2024-05-05T14:47:25.782608",
     "exception": false,
     "start_time": "2024-05-05T14:47:25.726716",
     "status": "completed"
    },
    "tags": []
   },
   "outputs": [
    {
     "data": {
      "text/plain": [
       "array([         10,        5000,          50,         100,        1000,\n",
       "               500,       50000,       10000,           1,      500000,\n",
       "            100000,           5,    10000000,     1000000,     5000000,\n",
       "                 0,   100000000,    50000000,  1000000000,   500000000,\n",
       "        5000000000, 10000000000], dtype=int64)"
      ]
     },
     "execution_count": 19,
     "metadata": {},
     "output_type": "execute_result"
    }
   ],
   "source": [
    "df['Installs'].unique()"
   ]
  },
  {
   "cell_type": "markdown",
   "id": "a227ff4e",
   "metadata": {
    "papermill": {
     "duration": 0.031229,
     "end_time": "2024-05-05T14:47:25.908266",
     "exception": false,
     "start_time": "2024-05-05T14:47:25.877037",
     "status": "completed"
    },
    "tags": []
   },
   "source": [
    "### <h1 style=\"color: #FF9900;\"> Dealing with Size column</h1>\n"
   ]
  },
  {
   "cell_type": "code",
   "execution_count": 20,
   "id": "1c8d14d3",
   "metadata": {
    "execution": {
     "iopub.execute_input": "2024-05-05T14:47:25.973062Z",
     "iopub.status.busy": "2024-05-05T14:47:25.972613Z",
     "iopub.status.idle": "2024-05-05T14:47:26.143994Z",
     "shell.execute_reply": "2024-05-05T14:47:26.142894Z"
    },
    "papermill": {
     "duration": 0.207026,
     "end_time": "2024-05-05T14:47:26.146447",
     "exception": false,
     "start_time": "2024-05-05T14:47:25.939421",
     "status": "completed"
    },
    "tags": []
   },
   "outputs": [
    {
     "data": {
      "text/plain": [
       "array(['10M', '2.9M', '3.7M', ..., '405M', '3.2k', '512M'], dtype=object)"
      ]
     },
     "execution_count": 20,
     "metadata": {},
     "output_type": "execute_result"
    }
   ],
   "source": [
    "df['Size'].unique()"
   ]
  },
  {
   "cell_type": "code",
   "execution_count": 21,
   "id": "59fdaee1",
   "metadata": {
    "execution": {
     "iopub.execute_input": "2024-05-05T14:47:26.214002Z",
     "iopub.status.busy": "2024-05-05T14:47:26.213587Z",
     "iopub.status.idle": "2024-05-05T14:47:28.390240Z",
     "shell.execute_reply": "2024-05-05T14:47:28.389132Z"
    },
    "papermill": {
     "duration": 2.214017,
     "end_time": "2024-05-05T14:47:28.392740",
     "exception": false,
     "start_time": "2024-05-05T14:47:26.178723",
     "status": "completed"
    },
    "tags": []
   },
   "outputs": [],
   "source": [
    "# This data contain MB, KBs, GBs\n",
    "# Correct this size and convert this only to MB \n",
    "df['Size'] = df['Size'].str.replace('M', '000000')\n",
    "df['Size'] = df['Size'].str.replace('k', '000')\n",
    "df['Size'] = df['Size'].str.replace('G', '000000000')"
   ]
  },
  {
   "cell_type": "code",
   "execution_count": 22,
   "id": "da574a2b",
   "metadata": {
    "execution": {
     "iopub.execute_input": "2024-05-05T14:47:28.459518Z",
     "iopub.status.busy": "2024-05-05T14:47:28.458865Z",
     "iopub.status.idle": "2024-05-05T14:47:29.682653Z",
     "shell.execute_reply": "2024-05-05T14:47:29.681350Z"
    },
    "papermill": {
     "duration": 1.2607,
     "end_time": "2024-05-05T14:47:29.685427",
     "exception": false,
     "start_time": "2024-05-05T14:47:28.424727",
     "status": "completed"
    },
    "tags": []
   },
   "outputs": [],
   "source": [
    "df['Size'] = pd.to_numeric(df['Size'] , errors='coerce')"
   ]
  },
  {
   "cell_type": "code",
   "execution_count": 23,
   "id": "28aee9cd",
   "metadata": {
    "execution": {
     "iopub.execute_input": "2024-05-05T14:47:29.750823Z",
     "iopub.status.busy": "2024-05-05T14:47:29.750466Z",
     "iopub.status.idle": "2024-05-05T14:47:29.780890Z",
     "shell.execute_reply": "2024-05-05T14:47:29.779684Z"
    },
    "papermill": {
     "duration": 0.065874,
     "end_time": "2024-05-05T14:47:29.783545",
     "exception": false,
     "start_time": "2024-05-05T14:47:29.717671",
     "status": "completed"
    },
    "tags": []
   },
   "outputs": [],
   "source": [
    "# Fill this missing values in Size columns\n",
    "df['Size'] = df['Size'].fillna(df['Size'].mean())"
   ]
  },
  {
   "cell_type": "code",
   "execution_count": 24,
   "id": "2b4d4e12",
   "metadata": {
    "execution": {
     "iopub.execute_input": "2024-05-05T14:47:29.849438Z",
     "iopub.status.busy": "2024-05-05T14:47:29.848763Z",
     "iopub.status.idle": "2024-05-05T14:47:30.588592Z",
     "shell.execute_reply": "2024-05-05T14:47:30.587380Z"
    },
    "papermill": {
     "duration": 0.775389,
     "end_time": "2024-05-05T14:47:30.591412",
     "exception": false,
     "start_time": "2024-05-05T14:47:29.816023",
     "status": "completed"
    },
    "tags": []
   },
   "outputs": [],
   "source": [
    "df['Size'] = df['Size'].apply(lambda x: x/1000000)"
   ]
  },
  {
   "cell_type": "code",
   "execution_count": 25,
   "id": "ed68d1d9",
   "metadata": {
    "execution": {
     "iopub.execute_input": "2024-05-05T14:47:30.657225Z",
     "iopub.status.busy": "2024-05-05T14:47:30.656067Z",
     "iopub.status.idle": "2024-05-05T14:47:30.692473Z",
     "shell.execute_reply": "2024-05-05T14:47:30.691322Z"
    },
    "papermill": {
     "duration": 0.070737,
     "end_time": "2024-05-05T14:47:30.694653",
     "exception": false,
     "start_time": "2024-05-05T14:47:30.623916",
     "status": "completed"
    },
    "tags": []
   },
   "outputs": [
    {
     "data": {
      "text/plain": [
       "array([1.00e+01, 2.90e-06, 3.70e-06, ..., 9.10e+02, 4.05e+02, 5.12e+02])"
      ]
     },
     "execution_count": 25,
     "metadata": {},
     "output_type": "execute_result"
    }
   ],
   "source": [
    "df['Size'].unique()"
   ]
  },
  {
   "cell_type": "code",
   "execution_count": 26,
   "id": "e49ab9ca",
   "metadata": {
    "execution": {
     "iopub.execute_input": "2024-05-05T14:47:30.759475Z",
     "iopub.status.busy": "2024-05-05T14:47:30.758762Z",
     "iopub.status.idle": "2024-05-05T14:47:30.765623Z",
     "shell.execute_reply": "2024-05-05T14:47:30.764698Z"
    },
    "papermill": {
     "duration": 0.041402,
     "end_time": "2024-05-05T14:47:30.767659",
     "exception": false,
     "start_time": "2024-05-05T14:47:30.726257",
     "status": "completed"
    },
    "tags": []
   },
   "outputs": [
    {
     "data": {
      "text/plain": [
       "dtype('float64')"
      ]
     },
     "execution_count": 26,
     "metadata": {},
     "output_type": "execute_result"
    }
   ],
   "source": [
    "df.dtypes['Size']"
   ]
  },
  {
   "cell_type": "code",
   "execution_count": 27,
   "id": "22e432bf",
   "metadata": {
    "execution": {
     "iopub.execute_input": "2024-05-05T14:47:30.893927Z",
     "iopub.status.busy": "2024-05-05T14:47:30.893311Z",
     "iopub.status.idle": "2024-05-05T14:47:30.901062Z",
     "shell.execute_reply": "2024-05-05T14:47:30.900213Z"
    },
    "papermill": {
     "duration": 0.042122,
     "end_time": "2024-05-05T14:47:30.903033",
     "exception": false,
     "start_time": "2024-05-05T14:47:30.860911",
     "status": "completed"
    },
    "tags": []
   },
   "outputs": [
    {
     "data": {
      "text/plain": [
       "0            7.1 and up\n",
       "1            5.0 and up\n",
       "2          4.0.3 and up\n",
       "3          4.0.3 and up\n",
       "4            4.1 and up\n",
       "               ...     \n",
       "2312939      4.1 and up\n",
       "2312940      4.1 and up\n",
       "2312941      5.0 and up\n",
       "2312942      5.0 and up\n",
       "2312943      5.0 and up\n",
       "Name: Minimum Android, Length: 2312548, dtype: object"
      ]
     },
     "execution_count": 27,
     "metadata": {},
     "output_type": "execute_result"
    }
   ],
   "source": [
    "df['Minimum Android']"
   ]
  },
  {
   "cell_type": "code",
   "execution_count": 28,
   "id": "00d1bc69",
   "metadata": {
    "execution": {
     "iopub.execute_input": "2024-05-05T14:47:30.967450Z",
     "iopub.status.busy": "2024-05-05T14:47:30.966814Z",
     "iopub.status.idle": "2024-05-05T14:47:31.028214Z",
     "shell.execute_reply": "2024-05-05T14:47:31.027222Z"
    },
    "papermill": {
     "duration": 0.095963,
     "end_time": "2024-05-05T14:47:31.030307",
     "exception": false,
     "start_time": "2024-05-05T14:47:30.934344",
     "status": "completed"
    },
    "tags": []
   },
   "outputs": [
    {
     "data": {
      "text/plain": [
       "0          Everyone\n",
       "1          Everyone\n",
       "2          Everyone\n",
       "3          Everyone\n",
       "4          Everyone\n",
       "             ...   \n",
       "2312939        Teen\n",
       "2312940    Everyone\n",
       "2312941    Everyone\n",
       "2312942    Everyone\n",
       "2312943    Everyone\n",
       "Name: Content Rating, Length: 2312548, dtype: object"
      ]
     },
     "execution_count": 28,
     "metadata": {},
     "output_type": "execute_result"
    }
   ],
   "source": [
    "df['Content Rating']"
   ]
  },
  {
   "cell_type": "code",
   "execution_count": 29,
   "id": "35e19417",
   "metadata": {
    "execution": {
     "iopub.execute_input": "2024-05-05T14:47:31.095694Z",
     "iopub.status.busy": "2024-05-05T14:47:31.095335Z",
     "iopub.status.idle": "2024-05-05T14:47:31.103460Z",
     "shell.execute_reply": "2024-05-05T14:47:31.102352Z"
    },
    "papermill": {
     "duration": 0.043797,
     "end_time": "2024-05-05T14:47:31.105581",
     "exception": false,
     "start_time": "2024-05-05T14:47:31.061784",
     "status": "completed"
    },
    "tags": []
   },
   "outputs": [
    {
     "data": {
      "text/plain": [
       "0          Feb 26, 2020\n",
       "1          May 21, 2020\n",
       "2           Aug 9, 2019\n",
       "3          Sep 10, 2018\n",
       "4          Feb 21, 2020\n",
       "               ...     \n",
       "2312939             NaN\n",
       "2312940    Jan 17, 2018\n",
       "2312941    Aug 19, 2018\n",
       "2312942     Aug 1, 2016\n",
       "2312943     Aug 9, 2019\n",
       "Name: Released, Length: 2312548, dtype: object"
      ]
     },
     "execution_count": 29,
     "metadata": {},
     "output_type": "execute_result"
    }
   ],
   "source": [
    "df['Released']"
   ]
  },
  {
   "cell_type": "code",
   "execution_count": 30,
   "id": "75fada64",
   "metadata": {
    "execution": {
     "iopub.execute_input": "2024-05-05T14:47:31.171594Z",
     "iopub.status.busy": "2024-05-05T14:47:31.170489Z",
     "iopub.status.idle": "2024-05-05T14:47:31.178969Z",
     "shell.execute_reply": "2024-05-05T14:47:31.178030Z"
    },
    "papermill": {
     "duration": 0.043652,
     "end_time": "2024-05-05T14:47:31.180868",
     "exception": false,
     "start_time": "2024-05-05T14:47:31.137216",
     "status": "completed"
    },
    "tags": []
   },
   "outputs": [
    {
     "data": {
      "text/plain": [
       "0          Feb 26, 2020\n",
       "1          May 06, 2021\n",
       "2          Aug 19, 2019\n",
       "3          Oct 13, 2018\n",
       "4          Nov 12, 2018\n",
       "               ...     \n",
       "2312939    Jun 01, 2021\n",
       "2312940    Feb 02, 2018\n",
       "2312941    Aug 19, 2018\n",
       "2312942    May 05, 2021\n",
       "2312943    Aug 19, 2019\n",
       "Name: Last Updated, Length: 2312548, dtype: object"
      ]
     },
     "execution_count": 30,
     "metadata": {},
     "output_type": "execute_result"
    }
   ],
   "source": [
    "df['Last Updated']"
   ]
  },
  {
   "cell_type": "markdown",
   "id": "84f13f0e",
   "metadata": {
    "papermill": {
     "duration": 0.032035,
     "end_time": "2024-05-05T14:47:31.244964",
     "exception": false,
     "start_time": "2024-05-05T14:47:31.212929",
     "status": "completed"
    },
    "tags": []
   },
   "source": [
    "- Let's clean the columns for content ratings."
   ]
  },
  {
   "cell_type": "code",
   "execution_count": 31,
   "id": "8fb7c0cc",
   "metadata": {
    "execution": {
     "iopub.execute_input": "2024-05-05T14:47:31.311522Z",
     "iopub.status.busy": "2024-05-05T14:47:31.310845Z",
     "iopub.status.idle": "2024-05-05T14:47:31.491090Z",
     "shell.execute_reply": "2024-05-05T14:47:31.489968Z"
    },
    "papermill": {
     "duration": 0.21621,
     "end_time": "2024-05-05T14:47:31.493221",
     "exception": false,
     "start_time": "2024-05-05T14:47:31.277011",
     "status": "completed"
    },
    "tags": []
   },
   "outputs": [
    {
     "data": {
      "text/plain": [
       "Everyone           2021788\n",
       "Teen                196311\n",
       "Mature 17+           60278\n",
       "Everyone 10+         33881\n",
       "Unrated                154\n",
       "Adults only 18+        136\n",
       "Name: Content Rating, dtype: int64"
      ]
     },
     "execution_count": 31,
     "metadata": {},
     "output_type": "execute_result"
    }
   ],
   "source": [
    "df['Content Rating'].value_counts()"
   ]
  },
  {
   "cell_type": "code",
   "execution_count": 32,
   "id": "34ee0067",
   "metadata": {
    "execution": {
     "iopub.execute_input": "2024-05-05T14:47:31.622975Z",
     "iopub.status.busy": "2024-05-05T14:47:31.622584Z",
     "iopub.status.idle": "2024-05-05T14:47:32.441078Z",
     "shell.execute_reply": "2024-05-05T14:47:32.439919Z"
    },
    "papermill": {
     "duration": 0.854208,
     "end_time": "2024-05-05T14:47:32.443488",
     "exception": false,
     "start_time": "2024-05-05T14:47:31.589280",
     "status": "completed"
    },
    "tags": []
   },
   "outputs": [],
   "source": [
    "df['Content Rating'] = df['Content Rating'].replace('Unrated', 'Everyone')\n",
    "df['Content Rating'] = df['Content Rating'].replace('Adults only 18+', 'Adults')\n",
    "df['Content Rating'] = df['Content Rating'].replace('Mature 17+', 'Adults')\n",
    "df['Content Rating'] = df['Content Rating'].replace('Everyone 10+', 'Teen') "
   ]
  },
  {
   "cell_type": "code",
   "execution_count": 33,
   "id": "12d5cfa0",
   "metadata": {
    "execution": {
     "iopub.execute_input": "2024-05-05T14:47:32.522447Z",
     "iopub.status.busy": "2024-05-05T14:47:32.521763Z",
     "iopub.status.idle": "2024-05-05T14:47:32.697821Z",
     "shell.execute_reply": "2024-05-05T14:47:32.696582Z"
    },
    "papermill": {
     "duration": 0.222965,
     "end_time": "2024-05-05T14:47:32.700065",
     "exception": false,
     "start_time": "2024-05-05T14:47:32.477100",
     "status": "completed"
    },
    "tags": []
   },
   "outputs": [
    {
     "data": {
      "text/plain": [
       "array(['Everyone', 'Teen', 'Adults'], dtype=object)"
      ]
     },
     "execution_count": 33,
     "metadata": {},
     "output_type": "execute_result"
    }
   ],
   "source": [
    "df['Content Rating'].unique()"
   ]
  },
  {
   "cell_type": "code",
   "execution_count": 34,
   "id": "97f9a5e6",
   "metadata": {
    "execution": {
     "iopub.execute_input": "2024-05-05T14:47:32.765876Z",
     "iopub.status.busy": "2024-05-05T14:47:32.765215Z",
     "iopub.status.idle": "2024-05-05T14:47:32.785617Z",
     "shell.execute_reply": "2024-05-05T14:47:32.784246Z"
    },
    "papermill": {
     "duration": 0.056071,
     "end_time": "2024-05-05T14:47:32.788216",
     "exception": false,
     "start_time": "2024-05-05T14:47:32.732145",
     "status": "completed"
    },
    "tags": []
   },
   "outputs": [
    {
     "name": "stdout",
     "output_type": "stream",
     "text": [
      "<class 'pandas.core.frame.DataFrame'>\n",
      "Int64Index: 2312548 entries, 0 to 2312943\n",
      "Data columns (total 24 columns):\n",
      " #   Column             Dtype  \n",
      "---  ------             -----  \n",
      " 0   App Name           object \n",
      " 1   App Id             object \n",
      " 2   Category           object \n",
      " 3   Rating             float64\n",
      " 4   Rating Count       float64\n",
      " 5   Installs           int64  \n",
      " 6   Minimum Installs   float64\n",
      " 7   Maximum Installs   int64  \n",
      " 8   Free               bool   \n",
      " 9   Price              float64\n",
      " 10  Currency           object \n",
      " 11  Size               float64\n",
      " 12  Minimum Android    object \n",
      " 13  Developer Id       object \n",
      " 14  Developer Website  object \n",
      " 15  Developer Email    object \n",
      " 16  Released           object \n",
      " 17  Last Updated       object \n",
      " 18  Content Rating     object \n",
      " 19  Privacy Policy     object \n",
      " 20  Ad Supported       bool   \n",
      " 21  In App Purchases   bool   \n",
      " 22  Editors Choice     bool   \n",
      " 23  Scraped Time       object \n",
      "dtypes: bool(4), float64(5), int64(2), object(13)\n",
      "memory usage: 379.3+ MB\n"
     ]
    }
   ],
   "source": [
    "df.info()"
   ]
  },
  {
   "cell_type": "code",
   "execution_count": 35,
   "id": "093a9312",
   "metadata": {
    "execution": {
     "iopub.execute_input": "2024-05-05T14:47:32.855597Z",
     "iopub.status.busy": "2024-05-05T14:47:32.855228Z",
     "iopub.status.idle": "2024-05-05T14:47:32.904240Z",
     "shell.execute_reply": "2024-05-05T14:47:32.902657Z"
    },
    "papermill": {
     "duration": 0.084737,
     "end_time": "2024-05-05T14:47:32.906309",
     "exception": false,
     "start_time": "2024-05-05T14:47:32.821572",
     "status": "completed"
    },
    "tags": []
   },
   "outputs": [
    {
     "data": {
      "text/plain": [
       "array([0.0000e+00, 6.4000e+01, 5.0000e+00, ..., 8.7553e+04, 7.5960e+04,\n",
       "       7.8351e+04])"
      ]
     },
     "execution_count": 35,
     "metadata": {},
     "output_type": "execute_result"
    }
   ],
   "source": [
    "df['Rating Count'].unique()"
   ]
  },
  {
   "cell_type": "code",
   "execution_count": 36,
   "id": "82c8e356",
   "metadata": {
    "execution": {
     "iopub.execute_input": "2024-05-05T14:47:33.042212Z",
     "iopub.status.busy": "2024-05-05T14:47:33.040981Z",
     "iopub.status.idle": "2024-05-05T14:47:33.063548Z",
     "shell.execute_reply": "2024-05-05T14:47:33.062555Z"
    },
    "papermill": {
     "duration": 0.058782,
     "end_time": "2024-05-05T14:47:33.065707",
     "exception": false,
     "start_time": "2024-05-05T14:47:33.006925",
     "status": "completed"
    },
    "tags": []
   },
   "outputs": [
    {
     "data": {
      "text/plain": [
       "138557570.0"
      ]
     },
     "execution_count": 36,
     "metadata": {},
     "output_type": "execute_result"
    }
   ],
   "source": [
    "df['Rating Count'].max()"
   ]
  },
  {
   "cell_type": "code",
   "execution_count": 37,
   "id": "bcbb4613",
   "metadata": {
    "execution": {
     "iopub.execute_input": "2024-05-05T14:47:33.134416Z",
     "iopub.status.busy": "2024-05-05T14:47:33.133538Z",
     "iopub.status.idle": "2024-05-05T14:47:33.349531Z",
     "shell.execute_reply": "2024-05-05T14:47:33.348268Z"
    },
    "papermill": {
     "duration": 0.253472,
     "end_time": "2024-05-05T14:47:33.352247",
     "exception": false,
     "start_time": "2024-05-05T14:47:33.098775",
     "status": "completed"
    },
    "tags": []
   },
   "outputs": [
    {
     "name": "stdout",
     "output_type": "stream",
     "text": [
      "less than 10k       2252532\n",
      "10k - 500k            35779\n",
      "NoRatingProvided      22572\n",
      "More than 500k         1665\n",
      "Name: Rating Type, dtype: int64\n"
     ]
    }
   ],
   "source": [
    "import pandas as pd\n",
    "\n",
    "# Assuming df is your DataFrame containing the data\n",
    "# Convert 'Rating Count' column to numeric type\n",
    "df['Rating Count'] = pd.to_numeric(df['Rating Count'], errors='coerce')\n",
    "\n",
    "# Define 'Rating Type' column with default value\n",
    "df['Rating Type'] = 'NoRatingProvided'\n",
    "\n",
    "# Update 'Rating Count' values based on conditions\n",
    "df.loc[df['Rating Count']  <= 10000.0, 'Rating Type'] = 'less than 10k'\n",
    "df.loc[(df['Rating Count'] > 10000) & (df['Rating Count'] <= 500000.0), 'Rating Type'] = '10k - 500k'\n",
    "df.loc[(df['Rating Count'] > 500000) & (df['Rating Count'] <= 138557570.0), 'Rating Type'] = 'More than 500k'\n",
    "\n",
    "# Count values in 'Rating Type' column\n",
    "rating_type_counts = df['Rating Type'].value_counts()\n",
    "\n",
    "# Show the counts\n",
    "print(rating_type_counts)\n"
   ]
  },
  {
   "cell_type": "code",
   "execution_count": 38,
   "id": "1908d7cc",
   "metadata": {
    "execution": {
     "iopub.execute_input": "2024-05-05T14:47:33.491672Z",
     "iopub.status.busy": "2024-05-05T14:47:33.491294Z",
     "iopub.status.idle": "2024-05-05T14:47:33.499522Z",
     "shell.execute_reply": "2024-05-05T14:47:33.498537Z"
    },
    "papermill": {
     "duration": 0.04863,
     "end_time": "2024-05-05T14:47:33.501482",
     "exception": false,
     "start_time": "2024-05-05T14:47:33.452852",
     "status": "completed"
    },
    "tags": []
   },
   "outputs": [
    {
     "data": {
      "text/plain": [
       "0          less than 10k\n",
       "1          less than 10k\n",
       "2          less than 10k\n",
       "3          less than 10k\n",
       "4          less than 10k\n",
       "               ...      \n",
       "2312939       10k - 500k\n",
       "2312940    less than 10k\n",
       "2312941    less than 10k\n",
       "2312942    less than 10k\n",
       "2312943    less than 10k\n",
       "Name: Rating Type, Length: 2312548, dtype: object"
      ]
     },
     "execution_count": 38,
     "metadata": {},
     "output_type": "execute_result"
    }
   ],
   "source": [
    "df['Rating Type']"
   ]
  },
  {
   "cell_type": "markdown",
   "id": "a38a233e",
   "metadata": {
    "papermill": {
     "duration": 0.033288,
     "end_time": "2024-05-05T14:47:33.568230",
     "exception": false,
     "start_time": "2024-05-05T14:47:33.534942",
     "status": "completed"
    },
    "tags": []
   },
   "source": [
    "<a id=\"9\"></a>\n",
    "<h1 style=\"background-color:#334460;font-family:newtimeroman;font-size:300%;text-align:center;border-radius: 15px 50px;color:#FF9900;\">Questions Answers</h1>"
   ]
  },
  {
   "cell_type": "markdown",
   "id": "241e1bd1",
   "metadata": {
    "papermill": {
     "duration": 0.032377,
     "end_time": "2024-05-05T14:47:33.707322",
     "exception": false,
     "start_time": "2024-05-05T14:47:33.674945",
     "status": "completed"
    },
    "tags": []
   },
   "source": [
    "- Which Play Store categories have the most Installs, based on the count?\n",
    "- According to the count, which 10 categories are there in the Play Store?\n",
    "- In what category are the top ten highest ratings?\n",
    "- What category has the most popular free and paid apps?\n",
    "- What category has the highest number of free and paid app installations?"
   ]
  },
  {
   "cell_type": "markdown",
   "id": "2cf4d082",
   "metadata": {
    "papermill": {
     "duration": 0.041138,
     "end_time": "2024-05-05T14:47:33.787776",
     "exception": false,
     "start_time": "2024-05-05T14:47:33.746638",
     "status": "completed"
    },
    "tags": []
   },
   "source": [
    "- **Q.** According to the count, which 10 categories are there in the Play Store?"
   ]
  },
  {
   "cell_type": "code",
   "execution_count": 47,
   "id": "cdf55a9b",
   "metadata": {
    "execution": {
     "iopub.execute_input": "2024-05-05T14:47:33.857477Z",
     "iopub.status.busy": "2024-05-05T14:47:33.856847Z",
     "iopub.status.idle": "2024-05-05T14:47:34.043503Z",
     "shell.execute_reply": "2024-05-05T14:47:34.042372Z"
    },
    "papermill": {
     "duration": 0.223499,
     "end_time": "2024-05-05T14:47:34.046005",
     "exception": false,
     "start_time": "2024-05-05T14:47:33.822506",
     "status": "completed"
    },
    "tags": []
   },
   "outputs": [
    {
     "data": {
      "text/plain": [
       "array(['Adventure', 'Tools', 'Productivity', 'Communication', 'Social',\n",
       "       'Libraries & Demo', 'Lifestyle', 'Personalization', 'Racing',\n",
       "       'Maps & Navigation', 'Travel & Local', 'Food & Drink',\n",
       "       'Books & Reference', 'Medical', 'Puzzle', 'Entertainment',\n",
       "       'Arcade', 'Auto & Vehicles', 'Photography', 'Health & Fitness',\n",
       "       'Education', 'Shopping', 'Board', 'Music & Audio', 'Sports',\n",
       "       'Beauty', 'Business', 'Educational', 'Finance', 'News & Magazines',\n",
       "       'Casual', 'Art & Design', 'House & Home', 'Card', 'Events',\n",
       "       'Trivia', 'Weather', 'Strategy', 'Word', 'Video Players & Editors',\n",
       "       'Action', 'Simulation', 'Music', 'Dating', 'Role Playing',\n",
       "       'Casino', 'Comics', 'Parenting'], dtype=object)"
      ]
     },
     "execution_count": 47,
     "metadata": {},
     "output_type": "execute_result"
    }
   ],
   "source": [
    "df['Category'].unique()"
   ]
  },
  {
   "cell_type": "code",
   "execution_count": 59,
   "id": "207381b3",
   "metadata": {
    "execution": {
     "iopub.execute_input": "2024-05-05T14:47:34.114840Z",
     "iopub.status.busy": "2024-05-05T14:47:34.114462Z",
     "iopub.status.idle": "2024-05-05T14:47:34.308038Z",
     "shell.execute_reply": "2024-05-05T14:47:34.306881Z"
    },
    "papermill": {
     "duration": 0.230843,
     "end_time": "2024-05-05T14:47:34.310220",
     "exception": false,
     "start_time": "2024-05-05T14:47:34.079377",
     "status": "completed"
    },
    "tags": []
   },
   "outputs": [
    {
     "data": {
      "text/html": [
       "<div>\n",
       "<style scoped>\n",
       "    .dataframe tbody tr th:only-of-type {\n",
       "        vertical-align: middle;\n",
       "    }\n",
       "\n",
       "    .dataframe tbody tr th {\n",
       "        vertical-align: top;\n",
       "    }\n",
       "\n",
       "    .dataframe thead th {\n",
       "        text-align: right;\n",
       "    }\n",
       "</style>\n",
       "<table border=\"1\" class=\"dataframe\">\n",
       "  <thead>\n",
       "    <tr style=\"text-align: right;\">\n",
       "      <th></th>\n",
       "      <th>count</th>\n",
       "      <th>Category</th>\n",
       "    </tr>\n",
       "  </thead>\n",
       "  <tbody>\n",
       "    <tr>\n",
       "      <th>0</th>\n",
       "      <td>241090</td>\n",
       "      <td>Education</td>\n",
       "    </tr>\n",
       "    <tr>\n",
       "      <th>1</th>\n",
       "      <td>154906</td>\n",
       "      <td>Music &amp; Audio</td>\n",
       "    </tr>\n",
       "    <tr>\n",
       "      <th>2</th>\n",
       "      <td>143988</td>\n",
       "      <td>Tools</td>\n",
       "    </tr>\n",
       "    <tr>\n",
       "      <th>3</th>\n",
       "      <td>143771</td>\n",
       "      <td>Business</td>\n",
       "    </tr>\n",
       "    <tr>\n",
       "      <th>4</th>\n",
       "      <td>138276</td>\n",
       "      <td>Entertainment</td>\n",
       "    </tr>\n",
       "    <tr>\n",
       "      <th>5</th>\n",
       "      <td>118331</td>\n",
       "      <td>Lifestyle</td>\n",
       "    </tr>\n",
       "    <tr>\n",
       "      <th>6</th>\n",
       "      <td>116728</td>\n",
       "      <td>Books &amp; Reference</td>\n",
       "    </tr>\n",
       "    <tr>\n",
       "      <th>7</th>\n",
       "      <td>89210</td>\n",
       "      <td>Personalization</td>\n",
       "    </tr>\n",
       "    <tr>\n",
       "      <th>8</th>\n",
       "      <td>83510</td>\n",
       "      <td>Health &amp; Fitness</td>\n",
       "    </tr>\n",
       "    <tr>\n",
       "      <th>9</th>\n",
       "      <td>79698</td>\n",
       "      <td>Productivity</td>\n",
       "    </tr>\n",
       "    <tr>\n",
       "      <th>10</th>\n",
       "      <td>75256</td>\n",
       "      <td>Shopping</td>\n",
       "    </tr>\n",
       "    <tr>\n",
       "      <th>11</th>\n",
       "      <td>73927</td>\n",
       "      <td>Food &amp; Drink</td>\n",
       "    </tr>\n",
       "    <tr>\n",
       "      <th>12</th>\n",
       "      <td>67288</td>\n",
       "      <td>Travel &amp; Local</td>\n",
       "    </tr>\n",
       "    <tr>\n",
       "      <th>13</th>\n",
       "      <td>65466</td>\n",
       "      <td>Finance</td>\n",
       "    </tr>\n",
       "    <tr>\n",
       "      <th>14</th>\n",
       "      <td>53792</td>\n",
       "      <td>Arcade</td>\n",
       "    </tr>\n",
       "    <tr>\n",
       "      <th>15</th>\n",
       "      <td>51168</td>\n",
       "      <td>Puzzle</td>\n",
       "    </tr>\n",
       "    <tr>\n",
       "      <th>16</th>\n",
       "      <td>50813</td>\n",
       "      <td>Casual</td>\n",
       "    </tr>\n",
       "    <tr>\n",
       "      <th>17</th>\n",
       "      <td>48167</td>\n",
       "      <td>Communication</td>\n",
       "    </tr>\n",
       "    <tr>\n",
       "      <th>18</th>\n",
       "      <td>47483</td>\n",
       "      <td>Sports</td>\n",
       "    </tr>\n",
       "    <tr>\n",
       "      <th>19</th>\n",
       "      <td>44734</td>\n",
       "      <td>Social</td>\n",
       "    </tr>\n",
       "    <tr>\n",
       "      <th>20</th>\n",
       "      <td>42807</td>\n",
       "      <td>News &amp; Magazines</td>\n",
       "    </tr>\n",
       "    <tr>\n",
       "      <th>21</th>\n",
       "      <td>35552</td>\n",
       "      <td>Photography</td>\n",
       "    </tr>\n",
       "    <tr>\n",
       "      <th>22</th>\n",
       "      <td>32065</td>\n",
       "      <td>Medical</td>\n",
       "    </tr>\n",
       "    <tr>\n",
       "      <th>23</th>\n",
       "      <td>27555</td>\n",
       "      <td>Action</td>\n",
       "    </tr>\n",
       "    <tr>\n",
       "      <th>24</th>\n",
       "      <td>26722</td>\n",
       "      <td>Maps &amp; Navigation</td>\n",
       "    </tr>\n",
       "    <tr>\n",
       "      <th>25</th>\n",
       "      <td>23282</td>\n",
       "      <td>Simulation</td>\n",
       "    </tr>\n",
       "    <tr>\n",
       "      <th>26</th>\n",
       "      <td>23203</td>\n",
       "      <td>Adventure</td>\n",
       "    </tr>\n",
       "    <tr>\n",
       "      <th>27</th>\n",
       "      <td>21308</td>\n",
       "      <td>Educational</td>\n",
       "    </tr>\n",
       "    <tr>\n",
       "      <th>28</th>\n",
       "      <td>18539</td>\n",
       "      <td>Art &amp; Design</td>\n",
       "    </tr>\n",
       "    <tr>\n",
       "      <th>29</th>\n",
       "      <td>18280</td>\n",
       "      <td>Auto &amp; Vehicles</td>\n",
       "    </tr>\n",
       "    <tr>\n",
       "      <th>30</th>\n",
       "      <td>14369</td>\n",
       "      <td>House &amp; Home</td>\n",
       "    </tr>\n",
       "    <tr>\n",
       "      <th>31</th>\n",
       "      <td>14015</td>\n",
       "      <td>Video Players &amp; Editors</td>\n",
       "    </tr>\n",
       "    <tr>\n",
       "      <th>32</th>\n",
       "      <td>12841</td>\n",
       "      <td>Events</td>\n",
       "    </tr>\n",
       "    <tr>\n",
       "      <th>33</th>\n",
       "      <td>11795</td>\n",
       "      <td>Trivia</td>\n",
       "    </tr>\n",
       "    <tr>\n",
       "      <th>34</th>\n",
       "      <td>11772</td>\n",
       "      <td>Beauty</td>\n",
       "    </tr>\n",
       "    <tr>\n",
       "      <th>35</th>\n",
       "      <td>10588</td>\n",
       "      <td>Board</td>\n",
       "    </tr>\n",
       "    <tr>\n",
       "      <th>36</th>\n",
       "      <td>10362</td>\n",
       "      <td>Racing</td>\n",
       "    </tr>\n",
       "    <tr>\n",
       "      <th>37</th>\n",
       "      <td>10034</td>\n",
       "      <td>Role Playing</td>\n",
       "    </tr>\n",
       "    <tr>\n",
       "      <th>38</th>\n",
       "      <td>8630</td>\n",
       "      <td>Word</td>\n",
       "    </tr>\n",
       "    <tr>\n",
       "      <th>39</th>\n",
       "      <td>8526</td>\n",
       "      <td>Strategy</td>\n",
       "    </tr>\n",
       "    <tr>\n",
       "      <th>40</th>\n",
       "      <td>8179</td>\n",
       "      <td>Card</td>\n",
       "    </tr>\n",
       "    <tr>\n",
       "      <th>41</th>\n",
       "      <td>7246</td>\n",
       "      <td>Weather</td>\n",
       "    </tr>\n",
       "    <tr>\n",
       "      <th>42</th>\n",
       "      <td>6524</td>\n",
       "      <td>Dating</td>\n",
       "    </tr>\n",
       "    <tr>\n",
       "      <th>43</th>\n",
       "      <td>5198</td>\n",
       "      <td>Libraries &amp; Demo</td>\n",
       "    </tr>\n",
       "    <tr>\n",
       "      <th>44</th>\n",
       "      <td>5076</td>\n",
       "      <td>Casino</td>\n",
       "    </tr>\n",
       "    <tr>\n",
       "      <th>45</th>\n",
       "      <td>4202</td>\n",
       "      <td>Music</td>\n",
       "    </tr>\n",
       "    <tr>\n",
       "      <th>46</th>\n",
       "      <td>3810</td>\n",
       "      <td>Parenting</td>\n",
       "    </tr>\n",
       "    <tr>\n",
       "      <th>47</th>\n",
       "      <td>2862</td>\n",
       "      <td>Comics</td>\n",
       "    </tr>\n",
       "  </tbody>\n",
       "</table>\n",
       "</div>"
      ],
      "text/plain": [
       "     count                 Category\n",
       "0   241090                Education\n",
       "1   154906            Music & Audio\n",
       "2   143988                    Tools\n",
       "3   143771                 Business\n",
       "4   138276            Entertainment\n",
       "5   118331                Lifestyle\n",
       "6   116728        Books & Reference\n",
       "7    89210          Personalization\n",
       "8    83510         Health & Fitness\n",
       "9    79698             Productivity\n",
       "10   75256                 Shopping\n",
       "11   73927             Food & Drink\n",
       "12   67288           Travel & Local\n",
       "13   65466                  Finance\n",
       "14   53792                   Arcade\n",
       "15   51168                   Puzzle\n",
       "16   50813                   Casual\n",
       "17   48167            Communication\n",
       "18   47483                   Sports\n",
       "19   44734                   Social\n",
       "20   42807         News & Magazines\n",
       "21   35552              Photography\n",
       "22   32065                  Medical\n",
       "23   27555                   Action\n",
       "24   26722        Maps & Navigation\n",
       "25   23282               Simulation\n",
       "26   23203                Adventure\n",
       "27   21308              Educational\n",
       "28   18539             Art & Design\n",
       "29   18280          Auto & Vehicles\n",
       "30   14369             House & Home\n",
       "31   14015  Video Players & Editors\n",
       "32   12841                   Events\n",
       "33   11795                   Trivia\n",
       "34   11772                   Beauty\n",
       "35   10588                    Board\n",
       "36   10362                   Racing\n",
       "37   10034             Role Playing\n",
       "38    8630                     Word\n",
       "39    8526                 Strategy\n",
       "40    8179                     Card\n",
       "41    7246                  Weather\n",
       "42    6524                   Dating\n",
       "43    5198         Libraries & Demo\n",
       "44    5076                   Casino\n",
       "45    4202                    Music\n",
       "46    3810                Parenting\n",
       "47    2862                   Comics"
      ]
     },
     "execution_count": 59,
     "metadata": {},
     "output_type": "execute_result"
    }
   ],
   "source": [
    "# check this top 10 category use count function\n",
    "top_category = df.Category.value_counts().reset_index()\n",
    "top_category['count']= top_category['Category']\n",
    "top_category.drop(columns=['Category'], inplace=True) \n",
    "top_category['Category']= top_category['index']\n",
    "top_category.drop(columns=['index'], inplace=True)\n",
    "top_category"
   ]
  },
  {
   "cell_type": "code",
   "execution_count": 61,
   "id": "b3fce82b",
   "metadata": {
    "execution": {
     "iopub.execute_input": "2024-05-05T14:47:34.997142Z",
     "iopub.status.busy": "2024-05-05T14:47:34.996060Z",
     "iopub.status.idle": "2024-05-05T14:47:35.529285Z",
     "shell.execute_reply": "2024-05-05T14:47:35.528247Z"
    },
    "papermill": {
     "duration": 0.574214,
     "end_time": "2024-05-05T14:47:35.532235",
     "exception": false,
     "start_time": "2024-05-05T14:47:34.958021",
     "status": "completed"
    },
    "tags": []
   },
   "outputs": [
    {
     "data": {
      "image/png": "[encoded data removed]",
      "text/plain": [
       "<Figure size 1000x600 with 1 Axes>"
      ]
     },
     "metadata": {},
     "output_type": "display_data"
    }
   ],
   "source": [
    "# create a bar plot show the all category \n",
    "\n",
    "plt.figure(figsize=(10, 6))\n",
    "plt.bar(top_category['Category'], top_category['count'], color=colors)\n",
    "plt.title('Top 10 Category')\n",
    "plt.xlabel('Category')\n",
    "plt.ylabel('Count')\n",
    "plt.xticks(rotation=90)\n",
    "plt.show()"
   ]
  },
  {
   "cell_type": "markdown",
   "id": "17c77f76",
   "metadata": {
    "papermill": {
     "duration": 0.037749,
     "end_time": "2024-05-05T14:47:35.608750",
     "exception": false,
     "start_time": "2024-05-05T14:47:35.571001",
     "status": "completed"
    },
    "tags": []
   },
   "source": [
    "**Ans:** Explore the top ten categories on the Play Store: With 241,068 downloads, education is the most popular category. Other categories include tools, music, books, business, entertainment, personalization, health, and productivity. Discover a wide range of products that suit every interest and lifestyle, from productivity tools to learning resources."
   ]
  },
  {
   "cell_type": "markdown",
   "id": "a3213f64",
   "metadata": {
    "papermill": {
     "duration": 0.037921,
     "end_time": "2024-05-05T14:47:35.685060",
     "exception": false,
     "start_time": "2024-05-05T14:47:35.647139",
     "status": "completed"
    },
    "tags": []
   },
   "source": [
    "- **Q.** Which Play Store categories have the most Installs, based on the count?"
   ]
  },
  {
   "cell_type": "code",
   "execution_count": 62,
   "id": "22ee9ef2",
   "metadata": {
    "execution": {
     "iopub.execute_input": "2024-05-05T14:47:35.762758Z",
     "iopub.status.busy": "2024-05-05T14:47:35.762395Z",
     "iopub.status.idle": "2024-05-05T14:47:36.016488Z",
     "shell.execute_reply": "2024-05-05T14:47:36.015116Z"
    },
    "papermill": {
     "duration": 0.2963,
     "end_time": "2024-05-05T14:47:36.019351",
     "exception": false,
     "start_time": "2024-05-05T14:47:35.723051",
     "status": "completed"
    },
    "tags": []
   },
   "outputs": [
    {
     "data": {
      "text/html": [
       "<div>\n",
       "<style scoped>\n",
       "    .dataframe tbody tr th:only-of-type {\n",
       "        vertical-align: middle;\n",
       "    }\n",
       "\n",
       "    .dataframe tbody tr th {\n",
       "        vertical-align: top;\n",
       "    }\n",
       "\n",
       "    .dataframe thead th {\n",
       "        text-align: right;\n",
       "    }\n",
       "</style>\n",
       "<table border=\"1\" class=\"dataframe\">\n",
       "  <thead>\n",
       "    <tr style=\"text-align: right;\">\n",
       "      <th></th>\n",
       "      <th>Category</th>\n",
       "      <th>Installs</th>\n",
       "    </tr>\n",
       "  </thead>\n",
       "  <tbody>\n",
       "    <tr>\n",
       "      <th>0</th>\n",
       "      <td>Action</td>\n",
       "      <td>100+50+500+50,000+100+10+1,000+5,000+100,000+1...</td>\n",
       "    </tr>\n",
       "    <tr>\n",
       "      <th>1</th>\n",
       "      <td>Adventure</td>\n",
       "      <td>10+1,000+100+500+1,000+100,000+5,000+10+100+1,...</td>\n",
       "    </tr>\n",
       "    <tr>\n",
       "      <th>2</th>\n",
       "      <td>Arcade</td>\n",
       "      <td>100+1,000+1,000+50+5,000+1,000+1,000+100+1,000...</td>\n",
       "    </tr>\n",
       "    <tr>\n",
       "      <th>3</th>\n",
       "      <td>Art &amp; Design</td>\n",
       "      <td>500+10+50,000+50,000+10,000+100+10+1+1,000+10+...</td>\n",
       "    </tr>\n",
       "    <tr>\n",
       "      <th>4</th>\n",
       "      <td>Auto &amp; Vehicles</td>\n",
       "      <td>1,000+500+50+1,000+500+50+10+1,000+1,000+1,000...</td>\n",
       "    </tr>\n",
       "    <tr>\n",
       "      <th>5</th>\n",
       "      <td>Beauty</td>\n",
       "      <td>500+50+100,000+100+100+5+50+10,000+10,000+10+1...</td>\n",
       "    </tr>\n",
       "    <tr>\n",
       "      <th>6</th>\n",
       "      <td>Board</td>\n",
       "      <td>10+50,000+10,000+50+10,000+500,000+5,000+100+1...</td>\n",
       "    </tr>\n",
       "    <tr>\n",
       "      <th>7</th>\n",
       "      <td>Books &amp; Reference</td>\n",
       "      <td>1+1,000+10,000+100,000+500+100,000+1,000+100+5...</td>\n",
       "    </tr>\n",
       "    <tr>\n",
       "      <th>8</th>\n",
       "      <td>Business</td>\n",
       "      <td>10+100+100+10+10+1+1,000+100+10+100+500+10+10,...</td>\n",
       "    </tr>\n",
       "    <tr>\n",
       "      <th>9</th>\n",
       "      <td>Card</td>\n",
       "      <td>500,000+10,000+500,000+1,000+10,000+1,000,000+...</td>\n",
       "    </tr>\n",
       "  </tbody>\n",
       "</table>\n",
       "</div>"
      ],
      "text/plain": [
       "            Category                                           Installs\n",
       "0             Action  100+50+500+50,000+100+10+1,000+5,000+100,000+1...\n",
       "1          Adventure  10+1,000+100+500+1,000+100,000+5,000+10+100+1,...\n",
       "2             Arcade  100+1,000+1,000+50+5,000+1,000+1,000+100+1,000...\n",
       "3       Art & Design  500+10+50,000+50,000+10,000+100+10+1+1,000+10+...\n",
       "4    Auto & Vehicles  1,000+500+50+1,000+500+50+10+1,000+1,000+1,000...\n",
       "5             Beauty  500+50+100,000+100+100+5+50+10,000+10,000+10+1...\n",
       "6              Board  10+50,000+10,000+50+10,000+500,000+5,000+100+1...\n",
       "7  Books & Reference  1+1,000+10,000+100,000+500+100,000+1,000+100+5...\n",
       "8           Business  10+100+100+10+10+1+1,000+100+10+100+500+10+10,...\n",
       "9               Card  500,000+10,000+500,000+1,000+10,000+1,000,000+..."
      ]
     },
     "execution_count": 62,
     "metadata": {},
     "output_type": "execute_result"
    }
   ],
   "source": [
    "# Use the groupby function to check this category based on install.\n",
    "Category_install = df.groupby('Category')['Installs'].sum().reset_index()\n",
    "Category_install.head(10)"
   ]
  },
  {
   "cell_type": "code",
   "execution_count": 63,
   "id": "55477bac",
   "metadata": {
    "execution": {
     "iopub.execute_input": "2024-05-05T14:47:36.099441Z",
     "iopub.status.busy": "2024-05-05T14:47:36.099058Z",
     "iopub.status.idle": "2024-05-05T14:47:36.354428Z",
     "shell.execute_reply": "2024-05-05T14:47:36.353261Z"
    },
    "papermill": {
     "duration": 0.29832,
     "end_time": "2024-05-05T14:47:36.356846",
     "exception": false,
     "start_time": "2024-05-05T14:47:36.058526",
     "status": "completed"
    },
    "tags": []
   },
   "outputs": [
    {
     "data": {
      "text/html": [
       "<div>\n",
       "<style scoped>\n",
       "    .dataframe tbody tr th:only-of-type {\n",
       "        vertical-align: middle;\n",
       "    }\n",
       "\n",
       "    .dataframe tbody tr th {\n",
       "        vertical-align: top;\n",
       "    }\n",
       "\n",
       "    .dataframe thead th {\n",
       "        text-align: right;\n",
       "    }\n",
       "</style>\n",
       "<table border=\"1\" class=\"dataframe\">\n",
       "  <thead>\n",
       "    <tr style=\"text-align: right;\">\n",
       "      <th></th>\n",
       "      <th>Category</th>\n",
       "      <th>Installs</th>\n",
       "    </tr>\n",
       "  </thead>\n",
       "  <tbody>\n",
       "    <tr>\n",
       "      <th>0</th>\n",
       "      <td>Action</td>\n",
       "      <td>100+50+500+50,000+100+10+1,000+5,000+100,000+1...</td>\n",
       "    </tr>\n",
       "    <tr>\n",
       "      <th>1</th>\n",
       "      <td>Adventure</td>\n",
       "      <td>10+1,000+100+500+1,000+100,000+5,000+10+100+1,...</td>\n",
       "    </tr>\n",
       "    <tr>\n",
       "      <th>2</th>\n",
       "      <td>Arcade</td>\n",
       "      <td>100+1,000+1,000+50+5,000+1,000+1,000+100+1,000...</td>\n",
       "    </tr>\n",
       "    <tr>\n",
       "      <th>3</th>\n",
       "      <td>Art &amp; Design</td>\n",
       "      <td>500+10+50,000+50,000+10,000+100+10+1+1,000+10+...</td>\n",
       "    </tr>\n",
       "    <tr>\n",
       "      <th>4</th>\n",
       "      <td>Auto &amp; Vehicles</td>\n",
       "      <td>1,000+500+50+1,000+500+50+10+1,000+1,000+1,000...</td>\n",
       "    </tr>\n",
       "    <tr>\n",
       "      <th>5</th>\n",
       "      <td>Beauty</td>\n",
       "      <td>500+50+100,000+100+100+5+50+10,000+10,000+10+1...</td>\n",
       "    </tr>\n",
       "    <tr>\n",
       "      <th>6</th>\n",
       "      <td>Board</td>\n",
       "      <td>10+50,000+10,000+50+10,000+500,000+5,000+100+1...</td>\n",
       "    </tr>\n",
       "    <tr>\n",
       "      <th>7</th>\n",
       "      <td>Books &amp; Reference</td>\n",
       "      <td>1+1,000+10,000+100,000+500+100,000+1,000+100+5...</td>\n",
       "    </tr>\n",
       "    <tr>\n",
       "      <th>8</th>\n",
       "      <td>Business</td>\n",
       "      <td>10+100+100+10+10+1+1,000+100+10+100+500+10+10,...</td>\n",
       "    </tr>\n",
       "    <tr>\n",
       "      <th>9</th>\n",
       "      <td>Card</td>\n",
       "      <td>500,000+10,000+500,000+1,000+10,000+1,000,000+...</td>\n",
       "    </tr>\n",
       "  </tbody>\n",
       "</table>\n",
       "</div>"
      ],
      "text/plain": [
       "            Category                                           Installs\n",
       "0             Action  100+50+500+50,000+100+10+1,000+5,000+100,000+1...\n",
       "1          Adventure  10+1,000+100+500+1,000+100,000+5,000+10+100+1,...\n",
       "2             Arcade  100+1,000+1,000+50+5,000+1,000+1,000+100+1,000...\n",
       "3       Art & Design  500+10+50,000+50,000+10,000+100+10+1+1,000+10+...\n",
       "4    Auto & Vehicles  1,000+500+50+1,000+500+50+10+1,000+1,000+1,000...\n",
       "5             Beauty  500+50+100,000+100+100+5+50+10,000+10,000+10+1...\n",
       "6              Board  10+50,000+10,000+50+10,000+500,000+5,000+100+1...\n",
       "7  Books & Reference  1+1,000+10,000+100,000+500+100,000+1,000+100+5...\n",
       "8           Business  10+100+100+10+10+1+1,000+100+10+100+500+10+10,...\n",
       "9               Card  500,000+10,000+500,000+1,000+10,000+1,000,000+..."
      ]
     },
     "execution_count": 63,
     "metadata": {},
     "output_type": "execute_result"
    }
   ],
   "source": [
    "Category_install = df.groupby('Category')['Installs'].sum().reset_index()\n",
    "Category_install.head(10)"
   ]
  },
  {
   "cell_type": "code",
   "execution_count": 65,
   "id": "735ff2a8",
   "metadata": {
    "execution": {
     "iopub.execute_input": "2024-05-05T14:47:36.437399Z",
     "iopub.status.busy": "2024-05-05T14:47:36.436984Z",
     "iopub.status.idle": "2024-05-05T14:47:36.455398Z",
     "shell.execute_reply": "2024-05-05T14:47:36.454346Z"
    },
    "papermill": {
     "duration": 0.061123,
     "end_time": "2024-05-05T14:47:36.457434",
     "exception": false,
     "start_time": "2024-05-05T14:47:36.396311",
     "status": "completed"
    },
    "tags": []
   },
   "outputs": [
    {
     "data": {
      "text/html": [
       "<div>\n",
       "<style scoped>\n",
       "    .dataframe tbody tr th:only-of-type {\n",
       "        vertical-align: middle;\n",
       "    }\n",
       "\n",
       "    .dataframe tbody tr th {\n",
       "        vertical-align: top;\n",
       "    }\n",
       "\n",
       "    .dataframe thead th {\n",
       "        text-align: right;\n",
       "    }\n",
       "</style>\n",
       "<table border=\"1\" class=\"dataframe\">\n",
       "  <thead>\n",
       "    <tr style=\"text-align: right;\">\n",
       "      <th></th>\n",
       "      <th>count</th>\n",
       "      <th>Category</th>\n",
       "      <th>Installs</th>\n",
       "    </tr>\n",
       "  </thead>\n",
       "  <tbody>\n",
       "    <tr>\n",
       "      <th>0</th>\n",
       "      <td>241090</td>\n",
       "      <td>Education</td>\n",
       "      <td>100+100+10+100+100+100+1,000+1,000+100+100+100...</td>\n",
       "    </tr>\n",
       "    <tr>\n",
       "      <th>1</th>\n",
       "      <td>154906</td>\n",
       "      <td>Music &amp; Audio</td>\n",
       "      <td>100+500+5+1,000+1+10+500+100+10,000+1,000+1+10...</td>\n",
       "    </tr>\n",
       "    <tr>\n",
       "      <th>2</th>\n",
       "      <td>143988</td>\n",
       "      <td>Tools</td>\n",
       "      <td>5,000+100+50+10,000+50,000+1,000+10,000+1,000+...</td>\n",
       "    </tr>\n",
       "    <tr>\n",
       "      <th>3</th>\n",
       "      <td>143771</td>\n",
       "      <td>Business</td>\n",
       "      <td>10+100+100+10+10+1+1,000+100+10+100+500+10+10,...</td>\n",
       "    </tr>\n",
       "    <tr>\n",
       "      <th>4</th>\n",
       "      <td>138276</td>\n",
       "      <td>Entertainment</td>\n",
       "      <td>500,000+100+10+5+100+10+5,000+500+10,000+100+5...</td>\n",
       "    </tr>\n",
       "    <tr>\n",
       "      <th>5</th>\n",
       "      <td>118331</td>\n",
       "      <td>Lifestyle</td>\n",
       "      <td>500+10,000+100+10,000+10+1,000+100+1,000,000+1...</td>\n",
       "    </tr>\n",
       "    <tr>\n",
       "      <th>6</th>\n",
       "      <td>116728</td>\n",
       "      <td>Books &amp; Reference</td>\n",
       "      <td>1+1,000+10,000+100,000+500+100,000+1,000+100+5...</td>\n",
       "    </tr>\n",
       "    <tr>\n",
       "      <th>7</th>\n",
       "      <td>89210</td>\n",
       "      <td>Personalization</td>\n",
       "      <td>50,000+100+500+10,000+500+50,000+5,000+10,000+...</td>\n",
       "    </tr>\n",
       "    <tr>\n",
       "      <th>8</th>\n",
       "      <td>83510</td>\n",
       "      <td>Health &amp; Fitness</td>\n",
       "      <td>10,000+1+10+1,000+1,000+10+10+10+10,000+100+5+...</td>\n",
       "    </tr>\n",
       "    <tr>\n",
       "      <th>9</th>\n",
       "      <td>79698</td>\n",
       "      <td>Productivity</td>\n",
       "      <td>50+10+100+50+1,000,000+100+1,000+10+100+1,000+...</td>\n",
       "    </tr>\n",
       "  </tbody>\n",
       "</table>\n",
       "</div>"
      ],
      "text/plain": [
       "    count           Category  \\\n",
       "0  241090          Education   \n",
       "1  154906      Music & Audio   \n",
       "2  143988              Tools   \n",
       "3  143771           Business   \n",
       "4  138276      Entertainment   \n",
       "5  118331          Lifestyle   \n",
       "6  116728  Books & Reference   \n",
       "7   89210    Personalization   \n",
       "8   83510   Health & Fitness   \n",
       "9   79698       Productivity   \n",
       "\n",
       "                                            Installs  \n",
       "0  100+100+10+100+100+100+1,000+1,000+100+100+100...  \n",
       "1  100+500+5+1,000+1+10+500+100+10,000+1,000+1+10...  \n",
       "2  5,000+100+50+10,000+50,000+1,000+10,000+1,000+...  \n",
       "3  10+100+100+10+10+1+1,000+100+10+100+500+10+10,...  \n",
       "4  500,000+100+10+5+100+10+5,000+500+10,000+100+5...  \n",
       "5  500+10,000+100+10,000+10+1,000+100+1,000,000+1...  \n",
       "6  1+1,000+10,000+100,000+500+100,000+1,000+100+5...  \n",
       "7  50,000+100+500+10,000+500+50,000+5,000+10,000+...  \n",
       "8  10,000+1+10+1,000+1,000+10+10+10+10,000+100+5+...  \n",
       "9  50+10+100+50+1,000,000+100+1,000+10+100+1,000+...  "
      ]
     },
     "execution_count": 65,
     "metadata": {},
     "output_type": "execute_result"
    }
   ],
   "source": [
    "top_category_install = pd.merge( top_category, Category_install, on='Category')\n",
    "top_category_install.head(10)"
   ]
  },
  {
   "cell_type": "code",
   "execution_count": 66,
   "id": "2bb68b26",
   "metadata": {
    "execution": {
     "iopub.execute_input": "2024-05-05T14:47:36.537712Z",
     "iopub.status.busy": "2024-05-05T14:47:36.537284Z",
     "iopub.status.idle": "2024-05-05T14:47:36.542836Z",
     "shell.execute_reply": "2024-05-05T14:47:36.541860Z"
    },
    "papermill": {
     "duration": 0.047806,
     "end_time": "2024-05-05T14:47:36.544738",
     "exception": false,
     "start_time": "2024-05-05T14:47:36.496932",
     "status": "completed"
    },
    "tags": []
   },
   "outputs": [],
   "source": [
    "# use the sort value function\n",
    "top_category_install = top_category_install.sort_values(by='Installs', ascending=False).head(10)"
   ]
  },
  {
   "cell_type": "markdown",
   "id": "4a9ca0da",
   "metadata": {
    "papermill": {
     "duration": 0.040319,
     "end_time": "2024-05-05T14:47:37.204893",
     "exception": false,
     "start_time": "2024-05-05T14:47:37.164574",
     "status": "completed"
    },
    "tags": []
   },
   "source": [
    "- **Q.** In what category are the top ten highest ratings?"
   ]
  },
  {
   "cell_type": "code",
   "execution_count": 71,
   "id": "90e3b6a8",
   "metadata": {
    "execution": {
     "iopub.execute_input": "2024-05-05T14:47:37.286875Z",
     "iopub.status.busy": "2024-05-05T14:47:37.285795Z",
     "iopub.status.idle": "2024-05-05T14:47:37.541077Z",
     "shell.execute_reply": "2024-05-05T14:47:37.540278Z"
    },
    "papermill": {
     "duration": 0.298285,
     "end_time": "2024-05-05T14:47:37.543025",
     "exception": false,
     "start_time": "2024-05-05T14:47:37.244740",
     "status": "completed"
    },
    "tags": []
   },
   "outputs": [
    {
     "data": {
      "text/html": [
       "<div>\n",
       "<style scoped>\n",
       "    .dataframe tbody tr th:only-of-type {\n",
       "        vertical-align: middle;\n",
       "    }\n",
       "\n",
       "    .dataframe tbody tr th {\n",
       "        vertical-align: top;\n",
       "    }\n",
       "\n",
       "    .dataframe thead th {\n",
       "        text-align: right;\n",
       "    }\n",
       "</style>\n",
       "<table border=\"1\" class=\"dataframe\">\n",
       "  <thead>\n",
       "    <tr style=\"text-align: right;\">\n",
       "      <th></th>\n",
       "      <th>Category</th>\n",
       "      <th>Rating</th>\n",
       "    </tr>\n",
       "  </thead>\n",
       "  <tbody>\n",
       "    <tr>\n",
       "      <th>36</th>\n",
       "      <td>Role Playing</td>\n",
       "      <td>3.384498</td>\n",
       "    </tr>\n",
       "    <tr>\n",
       "      <th>10</th>\n",
       "      <td>Casino</td>\n",
       "      <td>3.279682</td>\n",
       "    </tr>\n",
       "    <tr>\n",
       "      <th>38</th>\n",
       "      <td>Simulation</td>\n",
       "      <td>3.210887</td>\n",
       "    </tr>\n",
       "    <tr>\n",
       "      <th>46</th>\n",
       "      <td>Weather</td>\n",
       "      <td>3.120295</td>\n",
       "    </tr>\n",
       "    <tr>\n",
       "      <th>9</th>\n",
       "      <td>Card</td>\n",
       "      <td>3.085160</td>\n",
       "    </tr>\n",
       "    <tr>\n",
       "      <th>35</th>\n",
       "      <td>Racing</td>\n",
       "      <td>2.960385</td>\n",
       "    </tr>\n",
       "    <tr>\n",
       "      <th>45</th>\n",
       "      <td>Video Players &amp; Editors</td>\n",
       "      <td>2.903842</td>\n",
       "    </tr>\n",
       "    <tr>\n",
       "      <th>47</th>\n",
       "      <td>Word</td>\n",
       "      <td>2.902076</td>\n",
       "    </tr>\n",
       "    <tr>\n",
       "      <th>41</th>\n",
       "      <td>Strategy</td>\n",
       "      <td>2.878900</td>\n",
       "    </tr>\n",
       "    <tr>\n",
       "      <th>12</th>\n",
       "      <td>Comics</td>\n",
       "      <td>2.864906</td>\n",
       "    </tr>\n",
       "  </tbody>\n",
       "</table>\n",
       "</div>"
      ],
      "text/plain": [
       "                   Category    Rating\n",
       "36             Role Playing  3.384498\n",
       "10                   Casino  3.279682\n",
       "38               Simulation  3.210887\n",
       "46                  Weather  3.120295\n",
       "9                      Card  3.085160\n",
       "35                   Racing  2.960385\n",
       "45  Video Players & Editors  2.903842\n",
       "47                     Word  2.902076\n",
       "41                 Strategy  2.878900\n",
       "12                   Comics  2.864906"
      ]
     },
     "execution_count": 71,
     "metadata": {},
     "output_type": "execute_result"
    }
   ],
   "source": [
    "top_category_rating = df.groupby('Category')['Rating'].mean().reset_index()\n",
    "top_category_rating = top_category_rating.sort_values(by='Rating', ascending=False).head(10)\n",
    "top_category_rating.head(10)"
   ]
  },
  {
   "cell_type": "code",
   "execution_count": null,
   "id": "f9fdee09",
   "metadata": {
    "execution": {
     "iopub.execute_input": "2024-05-05T14:47:37.624269Z",
     "iopub.status.busy": "2024-05-05T14:47:37.623592Z",
     "iopub.status.idle": "2024-05-05T14:47:37.916684Z",
     "shell.execute_reply": "2024-05-05T14:47:37.915508Z"
    },
    "papermill": {
     "duration": 0.33626,
     "end_time": "2024-05-05T14:47:37.918910",
     "exception": false,
     "start_time": "2024-05-05T14:47:37.582650",
     "status": "completed"
    },
    "tags": []
   },
   "outputs": [
    {
     "data": {
      "image/png": "[encoded data removed]",
      "text/plain": [
       "<Figure size 1000x600 with 1 Axes>"
      ]
     },
     "metadata": {},
     "output_type": "display_data"
    }
   ],
   "source": [
    "# Check this top 10 highest rating category\n",
    "plt.figure(figsize=(10, 6))\n",
    "plt.bar(top_category_rating['Category'], top_category_rating['Rating'], color=colors)\n",
    "\n",
    "plt.xlabel('Category')\n",
    "\n",
    "plt.ylabel('Rating')\n",
    "\n",
    "plt.title('Top 10 Category with highest rating')\n",
    "\n",
    "plt.xticks(rotation=45)\n",
    "\n",
    "plt.show()"
   ]
  },
  {
   "cell_type": "code",
   "execution_count": null,
   "id": "df256f46",
   "metadata": {
    "execution": {
     "iopub.execute_input": "2024-05-05T14:47:38.003824Z",
     "iopub.status.busy": "2024-05-05T14:47:38.002759Z",
     "iopub.status.idle": "2024-05-05T14:48:02.972762Z",
     "shell.execute_reply": "2024-05-05T14:48:02.971838Z"
    },
    "papermill": {
     "duration": 25.015063,
     "end_time": "2024-05-05T14:48:02.975276",
     "exception": false,
     "start_time": "2024-05-05T14:47:37.960213",
     "status": "completed"
    },
    "tags": []
   },
   "outputs": [
    {
     "data": {
      "text/plain": [
       "<Axes: title={'center': 'All Category Rating'}, xlabel='Category', ylabel='Rating'>"
      ]
     },
     "execution_count": 53,
     "metadata": {},
     "output_type": "execute_result"
    },
    {
     "data": {
      "image/png": "[encoded data removed]",
      "text/plain": [
       "<Figure size 1400x700 with 1 Axes>"
      ]
     },
     "metadata": {},
     "output_type": "display_data"
    }
   ],
   "source": [
    "plt.figure(figsize=(14, 7))\n",
    "plt.xticks(rotation=90)\n",
    "plt.xlabel(\"High Rated Category\")\n",
    "plt.ylabel(\"Number of Applications\")\n",
    "plt.title(\"All Category Rating\")\n",
    "sns.barplot(x=df.Category, y=df.Rating)"
   ]
  },
  {
   "cell_type": "markdown",
   "id": "4da34f40",
   "metadata": {
    "papermill": {
     "duration": 0.043702,
     "end_time": "2024-05-05T14:48:03.062629",
     "exception": false,
     "start_time": "2024-05-05T14:48:03.018927",
     "status": "completed"
    },
    "tags": []
   },
   "source": [
    "**Ans.** The top ten highest-rated categories are Role Playing, Casino, Simulation, Weather, Card, Racing, Video Players & Editors, Word, Strategy, and Comics. These categories have received the highest average ratings, indicating user satisfaction and appreciation within the Play Store"
   ]
  },
  {
   "cell_type": "code",
   "execution_count": null,
   "id": "225dc0a0",
   "metadata": {
    "execution": {
     "iopub.execute_input": "2024-05-05T14:48:03.154014Z",
     "iopub.status.busy": "2024-05-05T14:48:03.152939Z",
     "iopub.status.idle": "2024-05-05T14:48:03.308583Z",
     "shell.execute_reply": "2024-05-05T14:48:03.307550Z"
    },
    "papermill": {
     "duration": 0.203108,
     "end_time": "2024-05-05T14:48:03.310876",
     "exception": false,
     "start_time": "2024-05-05T14:48:03.107768",
     "status": "completed"
    },
    "tags": []
   },
   "outputs": [
    {
     "data": {
      "text/plain": [
       "array(['Everyone', 'Teen', 'Adults'], dtype=object)"
      ]
     },
     "execution_count": 54,
     "metadata": {},
     "output_type": "execute_result"
    }
   ],
   "source": [
    "df['Content Rating'].unique()"
   ]
  },
  {
   "cell_type": "code",
   "execution_count": null,
   "id": "880670b3",
   "metadata": {
    "execution": {
     "iopub.execute_input": "2024-05-05T14:48:03.398969Z",
     "iopub.status.busy": "2024-05-05T14:48:03.398198Z",
     "iopub.status.idle": "2024-05-05T14:49:46.072381Z",
     "shell.execute_reply": "2024-05-05T14:49:46.071261Z"
    },
    "papermill": {
     "duration": 102.76663,
     "end_time": "2024-05-05T14:49:46.120465",
     "exception": false,
     "start_time": "2024-05-05T14:48:03.353835",
     "status": "completed"
    },
    "tags": []
   },
   "outputs": [
    {
     "data": {
      "text/plain": [
       "<Axes: title={'center': 'Content Rating vs Maximum Installs'}, xlabel='Content Rating', ylabel='Maximum Installs'>"
      ]
     },
     "execution_count": 55,
     "metadata": {},
     "output_type": "execute_result"
    },
    {
     "data": {
      "image/png": "[encoded data removed]",
      "text/plain": [
       "<Figure size 1400x700 with 1 Axes>"
      ]
     },
     "metadata": {},
     "output_type": "display_data"
    }
   ],
   "source": [
    "# Based on the maximum install and content rating, create a scatter plot.\n",
    "plt.figure(figsize=(14, 7))\n",
    "plt.xticks(rotation=90)\n",
    "plt.xlabel(\"Content Rating\")\n",
    "plt.ylabel(\"Maximum Installs\")\n",
    "plt.title(\"Content Rating vs Maximum Installs\")\n",
    "sns.scatterplot(data=df, x=\"Maximum Installs\", y=\"Rating Count\", hue=\"Content Rating\")"
   ]
  },
  {
   "cell_type": "markdown",
   "id": "9c23db3a",
   "metadata": {
    "papermill": {
     "duration": 0.044927,
     "end_time": "2024-05-05T14:49:46.210403",
     "exception": false,
     "start_time": "2024-05-05T14:49:46.165476",
     "status": "completed"
    },
    "tags": []
   },
   "source": [
    "- **Q.** What category has the most popular free and paid apps?"
   ]
  },
  {
   "cell_type": "code",
   "execution_count": null,
   "id": "b78dbc06",
   "metadata": {
    "execution": {
     "iopub.execute_input": "2024-05-05T14:49:46.301668Z",
     "iopub.status.busy": "2024-05-05T14:49:46.301307Z",
     "iopub.status.idle": "2024-05-05T14:49:46.571764Z",
     "shell.execute_reply": "2024-05-05T14:49:46.570669Z"
    },
    "papermill": {
     "duration": 0.318176,
     "end_time": "2024-05-05T14:49:46.574007",
     "exception": false,
     "start_time": "2024-05-05T14:49:46.255831",
     "status": "completed"
    },
    "tags": []
   },
   "outputs": [
    {
     "data": {
      "text/html": [
       "<div>\n",
       "<style scoped>\n",
       "    .dataframe tbody tr th:only-of-type {\n",
       "        vertical-align: middle;\n",
       "    }\n",
       "\n",
       "    .dataframe tbody tr th {\n",
       "        vertical-align: top;\n",
       "    }\n",
       "\n",
       "    .dataframe thead th {\n",
       "        text-align: right;\n",
       "    }\n",
       "</style>\n",
       "<table border=\"1\" class=\"dataframe\">\n",
       "  <thead>\n",
       "    <tr style=\"text-align: right;\">\n",
       "      <th></th>\n",
       "      <th>Category</th>\n",
       "      <th>Price</th>\n",
       "      <th>Count</th>\n",
       "    </tr>\n",
       "  </thead>\n",
       "  <tbody>\n",
       "    <tr>\n",
       "      <th>806</th>\n",
       "      <td>Education</td>\n",
       "      <td>0.0</td>\n",
       "      <td>234521</td>\n",
       "    </tr>\n",
       "    <tr>\n",
       "      <th>2038</th>\n",
       "      <td>Music &amp; Audio</td>\n",
       "      <td>0.0</td>\n",
       "      <td>153373</td>\n",
       "    </tr>\n",
       "    <tr>\n",
       "      <th>481</th>\n",
       "      <td>Business</td>\n",
       "      <td>0.0</td>\n",
       "      <td>143079</td>\n",
       "    </tr>\n",
       "    <tr>\n",
       "      <th>2936</th>\n",
       "      <td>Tools</td>\n",
       "      <td>0.0</td>\n",
       "      <td>139894</td>\n",
       "    </tr>\n",
       "    <tr>\n",
       "      <th>1192</th>\n",
       "      <td>Entertainment</td>\n",
       "      <td>0.0</td>\n",
       "      <td>136878</td>\n",
       "    </tr>\n",
       "    <tr>\n",
       "      <th>1585</th>\n",
       "      <td>Lifestyle</td>\n",
       "      <td>0.0</td>\n",
       "      <td>116979</td>\n",
       "    </tr>\n",
       "    <tr>\n",
       "      <th>292</th>\n",
       "      <td>Books &amp; Reference</td>\n",
       "      <td>0.0</td>\n",
       "      <td>113119</td>\n",
       "    </tr>\n",
       "    <tr>\n",
       "      <th>2189</th>\n",
       "      <td>Personalization</td>\n",
       "      <td>0.0</td>\n",
       "      <td>83440</td>\n",
       "    </tr>\n",
       "    <tr>\n",
       "      <th>1422</th>\n",
       "      <td>Health &amp; Fitness</td>\n",
       "      <td>0.0</td>\n",
       "      <td>82085</td>\n",
       "    </tr>\n",
       "    <tr>\n",
       "      <th>2348</th>\n",
       "      <td>Productivity</td>\n",
       "      <td>0.0</td>\n",
       "      <td>77950</td>\n",
       "    </tr>\n",
       "  </tbody>\n",
       "</table>\n",
       "</div>"
      ],
      "text/plain": [
       "               Category  Price   Count\n",
       "806           Education    0.0  234521\n",
       "2038      Music & Audio    0.0  153373\n",
       "481            Business    0.0  143079\n",
       "2936              Tools    0.0  139894\n",
       "1192      Entertainment    0.0  136878\n",
       "1585          Lifestyle    0.0  116979\n",
       "292   Books & Reference    0.0  113119\n",
       "2189    Personalization    0.0   83440\n",
       "1422   Health & Fitness    0.0   82085\n",
       "2348       Productivity    0.0   77950"
      ]
     },
     "execution_count": 56,
     "metadata": {},
     "output_type": "execute_result"
    }
   ],
   "source": [
    "# Look at this list of the best-paid and free apps by category and function\n",
    "\n",
    "df.groupby('Category')['Price'].value_counts().reset_index(name='Count').sort_values(by='Count', ascending=False).head(10)"
   ]
  },
  {
   "cell_type": "code",
   "execution_count": null,
   "id": "6f33be67",
   "metadata": {
    "execution": {
     "iopub.execute_input": "2024-05-05T14:49:46.667031Z",
     "iopub.status.busy": "2024-05-05T14:49:46.666336Z",
     "iopub.status.idle": "2024-05-05T14:49:46.803376Z",
     "shell.execute_reply": "2024-05-05T14:49:46.802459Z"
    },
    "papermill": {
     "duration": 0.186561,
     "end_time": "2024-05-05T14:49:46.805762",
     "exception": false,
     "start_time": "2024-05-05T14:49:46.619201",
     "status": "completed"
    },
    "tags": []
   },
   "outputs": [],
   "source": [
    "# Make a bar plan and substitute True with False. Both free and Paid\n",
    "\n",
    "df['Free'] = df['Price'] == 0\n",
    "df['Free'] = df['Free'].replace({False: 'Paid', True: 'Free'})\n",
    "  "
   ]
  },
  {
   "cell_type": "code",
   "execution_count": null,
   "id": "7ac58179",
   "metadata": {
    "execution": {
     "iopub.execute_input": "2024-05-05T14:49:46.899161Z",
     "iopub.status.busy": "2024-05-05T14:49:46.897864Z",
     "iopub.status.idle": "2024-05-05T14:49:50.547827Z",
     "shell.execute_reply": "2024-05-05T14:49:50.546690Z"
    },
    "papermill": {
     "duration": 3.699261,
     "end_time": "2024-05-05T14:49:50.550297",
     "exception": false,
     "start_time": "2024-05-05T14:49:46.851036",
     "status": "completed"
    },
    "tags": []
   },
   "outputs": [
    {
     "data": {
      "text/plain": [
       "<Axes: title={'center': 'Highest Free and paid app category'}, xlabel='Category', ylabel='count'>"
      ]
     },
     "execution_count": 58,
     "metadata": {},
     "output_type": "execute_result"
    },
    {
     "data": {
      "image/png": "[encoded data removed]",
      "text/plain": [
       "<Figure size 1200x600 with 1 Axes>"
      ]
     },
     "metadata": {},
     "output_type": "display_data"
    }
   ],
   "source": [
    "# Display the top-ranked free and paid app categories using a bar plot\n",
    "plt.figure(figsize=(12,6))\n",
    "plt.xticks(rotation=90)\n",
    "plt.xlabel('Category')\n",
    "plt.ylabel('Count')\n",
    "plt.title('Highest Free and paid app category')\n",
    "sns.countplot(x='Category', data=df, hue='Free')"
   ]
  },
  {
   "cell_type": "markdown",
   "id": "f84342e0",
   "metadata": {
    "papermill": {
     "duration": 0.046513,
     "end_time": "2024-05-05T14:49:50.645071",
     "exception": false,
     "start_time": "2024-05-05T14:49:50.598558",
     "status": "completed"
    },
    "tags": []
   },
   "source": [
    " **Ans.** The most popular free and paid apps fall under the categories of education, tools, and entertainment. "
   ]
  },
  {
   "cell_type": "markdown",
   "id": "97695156",
   "metadata": {
    "papermill": {
     "duration": 0.046616,
     "end_time": "2024-05-05T14:49:50.740060",
     "exception": false,
     "start_time": "2024-05-05T14:49:50.693444",
     "status": "completed"
    },
    "tags": []
   },
   "source": [
    "- **Q.** What category has the highest number of free and paid app installations?"
   ]
  },
  {
   "cell_type": "code",
   "execution_count": null,
   "id": "50736fbf",
   "metadata": {
    "execution": {
     "iopub.execute_input": "2024-05-05T14:49:50.837618Z",
     "iopub.status.busy": "2024-05-05T14:49:50.837214Z",
     "iopub.status.idle": "2024-05-05T14:50:13.438075Z",
     "shell.execute_reply": "2024-05-05T14:50:13.436894Z"
    },
    "papermill": {
     "duration": 22.653056,
     "end_time": "2024-05-05T14:50:13.440526",
     "exception": false,
     "start_time": "2024-05-05T14:49:50.787470",
     "status": "completed"
    },
    "tags": []
   },
   "outputs": [
    {
     "data": {
      "text/plain": [
       "<Axes: title={'center': 'Highest Free and paid app category based on the Maximum installs'}, xlabel='Category', ylabel='Maximum Installs'>"
      ]
     },
     "execution_count": 59,
     "metadata": {},
     "output_type": "execute_result"
    },
    {
     "data": {
      "image/png": "[encoded data removed]",
      "text/plain": [
       "<Figure size 1200x600 with 1 Axes>"
      ]
     },
     "metadata": {},
     "output_type": "display_data"
    }
   ],
   "source": [
    "# Make a bar chart. display the top 10 categories for both free and premium apps based on the maximum number of installs.\n",
    "top_category = df.groupby('Category')['Maximum Installs'].max().reset_index().sort_values(by='Maximum Installs', ascending=False).head(10)\n",
    "\n",
    "plt.figure(figsize=(12,6))\n",
    "plt.xticks(rotation=90)\n",
    "plt.xlabel('Category')\n",
    "plt.ylabel('Count')\n",
    "plt.title('Highest Free and paid app category based on the Maximum installs')\n",
    "sns.barplot(x='Category', y='Maximum Installs', data=df, hue='Free')"
   ]
  },
  {
   "cell_type": "markdown",
   "id": "abcb9247",
   "metadata": {
    "papermill": {
     "duration": 0.049102,
     "end_time": "2024-05-05T14:50:13.539703",
     "exception": false,
     "start_time": "2024-05-05T14:50:13.490601",
     "status": "completed"
    },
    "tags": []
   },
   "source": [
    "**Ans.** Video Players & Editors is the most installed app in the free app category, according to an analysis of data from the Google Play Store dataset."
   ]
  },
  {
   "cell_type": "code",
   "execution_count": null,
   "id": "09ece3e6",
   "metadata": {
    "execution": {
     "iopub.execute_input": "2024-05-05T14:50:13.641878Z",
     "iopub.status.busy": "2024-05-05T14:50:13.641460Z",
     "iopub.status.idle": "2024-05-05T14:50:13.915455Z",
     "shell.execute_reply": "2024-05-05T14:50:13.914236Z"
    },
    "papermill": {
     "duration": 0.32863,
     "end_time": "2024-05-05T14:50:13.917845",
     "exception": false,
     "start_time": "2024-05-05T14:50:13.589215",
     "status": "completed"
    },
    "tags": []
   },
   "outputs": [
    {
     "data": {
      "image/png": "[encoded data removed]",
      "text/plain": [
       "<Figure size 600x600 with 1 Axes>"
      ]
     },
     "metadata": {},
     "output_type": "display_data"
    }
   ],
   "source": [
    "# Create a pie plot show the persentage of insatll free and paid apps category\n",
    "plt.figure(figsize=(6,6))\n",
    "plt.pie(df['Free'].value_counts(), labels=['Free', 'Paid'], autopct='%1.1f%%')\n",
    "plt.title('Persentage of insatll free and paid apps category')\n",
    "plt.show()"
   ]
  }
 ],
 "metadata": {
  "kaggle": {
   "accelerator": "none",
   "dataSources": [
    {
     "datasetId": 157336,
     "sourceId": 2344679,
     "sourceType": "datasetVersion"
    }
   ],
   "dockerImageVersionId": 30698,
   "isGpuEnabled": false,
   "isInternetEnabled": true,
   "language": "python",
   "sourceType": "notebook"
  },
  "kernelspec": {
   "display_name": "Python 3",
   "language": "python",
   "name": "python3"
  },
  "language_info": {
   "codemirror_mode": {
    "name": "ipython",
    "version": 3
   },
   "file_extension": ".py",
   "mimetype": "text/x-python",
   "name": "python",
   "nbconvert_exporter": "python",
   "pygments_lexer": "ipython3",
   "version": "3.11.1"
  },
  "papermill": {
   "default_parameters": {},
   "duration": 302.090034,
   "end_time": "2024-05-05T14:50:16.092565",
   "environment_variables": {},
   "exception": null,
   "input_path": "__notebook__.ipynb",
   "output_path": "__notebook__.ipynb",
   "parameters": {},
   "start_time": "2024-05-05T14:45:14.002531",
   "version": "2.5.0"
  }
 },
 "nbformat": 4,
 "nbformat_minor": 5
}
